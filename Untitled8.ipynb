{
  "nbformat": 4,
  "nbformat_minor": 0,
  "metadata": {
    "colab": {
      "name": "Untitled8.ipynb",
      "provenance": [],
      "collapsed_sections": [],
      "authorship_tag": "ABX9TyMa1MzY3K0nwV4pAZejMOZ4",
      "include_colab_link": true
    },
    "kernelspec": {
      "display_name": "Python 3",
      "name": "python3"
    },
    "language_info": {
      "name": "python"
    }
  },
  "cells": [
    {
      "cell_type": "markdown",
      "metadata": {
        "id": "view-in-github",
        "colab_type": "text"
      },
      "source": [
        "<a href=\"https://colab.research.google.com/github/itsAnkitcode001/LetsGrowMore/blob/main/Untitled8.ipynb\" target=\"_parent\"><img src=\"https://colab.research.google.com/assets/colab-badge.svg\" alt=\"Open In Colab\"/></a>"
      ]
    },
    {
      "cell_type": "markdown",
      "metadata": {
        "id": "-TOFsytK_y8H"
      },
      "source": [
        "#**Let'sGrowMore**\n",
        " \n",
        " \n",
        "#**Name:-Ankit Singh Chauhan**\n",
        "#Aim:-Develop a Neural Network that can read Handwriting in MNIST Data"
      ]
    },
    {
      "cell_type": "markdown",
      "metadata": {
        "id": "aBfcpOSJBhh9"
      },
      "source": [
        " **IMPORTING LIBRARIES**"
      ]
    },
    {
      "cell_type": "code",
      "metadata": {
        "id": "9IG48OweocbF"
      },
      "source": [
        "import tensorflow as tf\n",
        "from tensorflow import keras\n",
        "import matplotlib\n",
        "import matplotlib.pyplot as plt\n",
        "import numpy as np\n",
        "from tensorflow.keras.utils import plot_model"
      ],
      "execution_count": null,
      "outputs": []
    },
    {
      "cell_type": "markdown",
      "metadata": {
        "id": "FN50-eLrB45l"
      },
      "source": [
        "##**Loading MNIST Dataset from keras and train the data here**\n",
        "We have 60000 dataset for training and 10000 dataset for testing"
      ]
    },
    {
      "cell_type": "code",
      "metadata": {
        "id": "Y6rG-G7IvMIp"
      },
      "source": [
        "#data loading from keras dataset\n",
        "Mnist_Data=keras.datasets.mnist.load_data()\n",
        "#Data divided for training and testing of model\n",
        "(X_train, Y_train), (X_test, Y_test) =Mnist_Data"
      ],
      "execution_count": null,
      "outputs": []
    },
    {
      "cell_type": "code",
      "metadata": {
        "colab": {
          "base_uri": "https://localhost:8080/"
        },
        "id": "UhL6FZ_Dwwce",
        "outputId": "5ebb1635-6162-41a1-8d24-21cacf342e27"
      },
      "source": [
        "print(\"X_train data is\", len(X_train), \"\\nX_test data is\", len(X_test) )"
      ],
      "execution_count": null,
      "outputs": [
        {
          "output_type": "stream",
          "text": [
            "X_train data is 60000 \n",
            "X_test data is 10000\n"
          ],
          "name": "stdout"
        }
      ]
    },
    {
      "cell_type": "code",
      "metadata": {
        "colab": {
          "base_uri": "https://localhost:8080/"
        },
        "id": "7rbQvc2-xlK9",
        "outputId": "4c7f5f1d-b0ec-4b52-b490-aa0504138665"
      },
      "source": [
        "#Dataset elements are 2-Dimensional\n",
        "print(\"Data size at index 0 is\",X_train[0].shape, \"and  the type is\", type(X_train[0]))"
      ],
      "execution_count": null,
      "outputs": [
        {
          "output_type": "stream",
          "text": [
            "Data size at index 0 is (28, 28) and  the type is <class 'numpy.ndarray'>\n"
          ],
          "name": "stdout"
        }
      ]
    },
    {
      "cell_type": "code",
      "metadata": {
        "id": "SRMJmcUXF1qX",
        "colab": {
          "base_uri": "https://localhost:8080/"
        },
        "outputId": "889cd8b2-4dd2-4240-8393-b7f3f1c7e25f"
      },
      "source": [
        " \n",
        "#here you can see that train data's element has 2-D array\n",
        "X_train[4]"
      ],
      "execution_count": null,
      "outputs": [
        {
          "output_type": "execute_result",
          "data": {
            "text/plain": [
              "array([[  0,   0,   0,   0,   0,   0,   0,   0,   0,   0,   0,   0,   0,\n",
              "          0,   0,   0,   0,   0,   0,   0,   0,   0,   0,   0,   0,   0,\n",
              "          0,   0],\n",
              "       [  0,   0,   0,   0,   0,   0,   0,   0,   0,   0,   0,   0,   0,\n",
              "          0,   0,   0,   0,   0,   0,   0,   0,   0,   0,   0,   0,   0,\n",
              "          0,   0],\n",
              "       [  0,   0,   0,   0,   0,   0,   0,   0,   0,   0,   0,   0,   0,\n",
              "          0,   0,   0,   0,   0,   0,   0,   0,   0,   0,   0,   0,   0,\n",
              "          0,   0],\n",
              "       [  0,   0,   0,   0,   0,   0,   0,   0,   0,   0,   0,   0,   0,\n",
              "          0,   0,   0,   0,   0,   0,   0,   0,   0,   0,   0,   0,   0,\n",
              "          0,   0],\n",
              "       [  0,   0,   0,   0,   0,   0,   0,   0,   0,   0,   0,   0,   0,\n",
              "          0,   0,   0,   0,   0,   0,   0,   0,   0,   0,   0,   0,   0,\n",
              "          0,   0],\n",
              "       [  0,   0,   0,   0,   0,   0,   0,   0,   0,   0,   0,   0,   0,\n",
              "          0,   0,   0,   0,   0,   0,   0,   0,   0,   0,   0,   0,   0,\n",
              "          0,   0],\n",
              "       [  0,   0,   0,   0,   0,   0,   0,   0,   0,   0,   0,   0,   0,\n",
              "          0,   0,   0,   0,   0,   0,   0,   0,   0,   0,   0,   0,   0,\n",
              "          0,   0],\n",
              "       [  0,   0,   0,   0,   0,   0,   0,   0,   0,   0,   0,   0,  55,\n",
              "        148, 210, 253, 253, 113,  87, 148,  55,   0,   0,   0,   0,   0,\n",
              "          0,   0],\n",
              "       [  0,   0,   0,   0,   0,   0,   0,   0,   0,   0,   0,  87, 232,\n",
              "        252, 253, 189, 210, 252, 252, 253, 168,   0,   0,   0,   0,   0,\n",
              "          0,   0],\n",
              "       [  0,   0,   0,   0,   0,   0,   0,   0,   0,   4,  57, 242, 252,\n",
              "        190,  65,   5,  12, 182, 252, 253, 116,   0,   0,   0,   0,   0,\n",
              "          0,   0],\n",
              "       [  0,   0,   0,   0,   0,   0,   0,   0,   0,  96, 252, 252, 183,\n",
              "         14,   0,   0,  92, 252, 252, 225,  21,   0,   0,   0,   0,   0,\n",
              "          0,   0],\n",
              "       [  0,   0,   0,   0,   0,   0,   0,   0, 132, 253, 252, 146,  14,\n",
              "          0,   0,   0, 215, 252, 252,  79,   0,   0,   0,   0,   0,   0,\n",
              "          0,   0],\n",
              "       [  0,   0,   0,   0,   0,   0,   0, 126, 253, 247, 176,   9,   0,\n",
              "          0,   8,  78, 245, 253, 129,   0,   0,   0,   0,   0,   0,   0,\n",
              "          0,   0],\n",
              "       [  0,   0,   0,   0,   0,   0,  16, 232, 252, 176,   0,   0,   0,\n",
              "         36, 201, 252, 252, 169,  11,   0,   0,   0,   0,   0,   0,   0,\n",
              "          0,   0],\n",
              "       [  0,   0,   0,   0,   0,   0,  22, 252, 252,  30,  22, 119, 197,\n",
              "        241, 253, 252, 251,  77,   0,   0,   0,   0,   0,   0,   0,   0,\n",
              "          0,   0],\n",
              "       [  0,   0,   0,   0,   0,   0,  16, 231, 252, 253, 252, 252, 252,\n",
              "        226, 227, 252, 231,   0,   0,   0,   0,   0,   0,   0,   0,   0,\n",
              "          0,   0],\n",
              "       [  0,   0,   0,   0,   0,   0,   0,  55, 235, 253, 217, 138,  42,\n",
              "         24, 192, 252, 143,   0,   0,   0,   0,   0,   0,   0,   0,   0,\n",
              "          0,   0],\n",
              "       [  0,   0,   0,   0,   0,   0,   0,   0,   0,   0,   0,   0,   0,\n",
              "         62, 255, 253, 109,   0,   0,   0,   0,   0,   0,   0,   0,   0,\n",
              "          0,   0],\n",
              "       [  0,   0,   0,   0,   0,   0,   0,   0,   0,   0,   0,   0,   0,\n",
              "         71, 253, 252,  21,   0,   0,   0,   0,   0,   0,   0,   0,   0,\n",
              "          0,   0],\n",
              "       [  0,   0,   0,   0,   0,   0,   0,   0,   0,   0,   0,   0,   0,\n",
              "          0, 253, 252,  21,   0,   0,   0,   0,   0,   0,   0,   0,   0,\n",
              "          0,   0],\n",
              "       [  0,   0,   0,   0,   0,   0,   0,   0,   0,   0,   0,   0,   0,\n",
              "         71, 253, 252,  21,   0,   0,   0,   0,   0,   0,   0,   0,   0,\n",
              "          0,   0],\n",
              "       [  0,   0,   0,   0,   0,   0,   0,   0,   0,   0,   0,   0,   0,\n",
              "        106, 253, 252,  21,   0,   0,   0,   0,   0,   0,   0,   0,   0,\n",
              "          0,   0],\n",
              "       [  0,   0,   0,   0,   0,   0,   0,   0,   0,   0,   0,   0,   0,\n",
              "         45, 255, 253,  21,   0,   0,   0,   0,   0,   0,   0,   0,   0,\n",
              "          0,   0],\n",
              "       [  0,   0,   0,   0,   0,   0,   0,   0,   0,   0,   0,   0,   0,\n",
              "          0, 218, 252,  56,   0,   0,   0,   0,   0,   0,   0,   0,   0,\n",
              "          0,   0],\n",
              "       [  0,   0,   0,   0,   0,   0,   0,   0,   0,   0,   0,   0,   0,\n",
              "          0,  96, 252, 189,  42,   0,   0,   0,   0,   0,   0,   0,   0,\n",
              "          0,   0],\n",
              "       [  0,   0,   0,   0,   0,   0,   0,   0,   0,   0,   0,   0,   0,\n",
              "          0,  14, 184, 252, 170,  11,   0,   0,   0,   0,   0,   0,   0,\n",
              "          0,   0],\n",
              "       [  0,   0,   0,   0,   0,   0,   0,   0,   0,   0,   0,   0,   0,\n",
              "          0,   0,  14, 147, 252,  42,   0,   0,   0,   0,   0,   0,   0,\n",
              "          0,   0],\n",
              "       [  0,   0,   0,   0,   0,   0,   0,   0,   0,   0,   0,   0,   0,\n",
              "          0,   0,   0,   0,   0,   0,   0,   0,   0,   0,   0,   0,   0,\n",
              "          0,   0]], dtype=uint8)"
            ]
          },
          "metadata": {},
          "execution_count": 50
        }
      ]
    },
    {
      "cell_type": "markdown",
      "metadata": {
        "id": "6d8ydYWrEaz5"
      },
      "source": [
        "###**Lets,Draw the 2-D array and see what handwritten figure is it**"
      ]
    },
    {
      "cell_type": "code",
      "metadata": {
        "colab": {
          "base_uri": "https://localhost:8080/",
          "height": 560
        },
        "id": "wO8m46AmFVWI",
        "outputId": "bcb4f719-4c67-4592-cabd-46a0ecb116b5"
      },
      "source": [
        "plt.matshow(X_train[4])\n",
        "plt.show() \n",
        "#Binary plot,In which we have only two colour black and white. Black=255 and White =0\n",
        "plt.imshow(X_train[4], cmap=matplotlib.cm.binary)"
      ],
      "execution_count": null,
      "outputs": [
        {
          "output_type": "display_data",
          "data": {
            "image/png": "[encoded data removed]",
            "text/plain": [
              "<Figure size 288x288 with 1 Axes>"
            ]
          },
          "metadata": {
            "needs_background": "light"
          }
        },
        {
          "output_type": "execute_result",
          "data": {
            "text/plain": [
              "<matplotlib.image.AxesImage at 0x7f9094c334d0>"
            ]
          },
          "metadata": {},
          "execution_count": 51
        },
        {
          "output_type": "display_data",
          "data": {
            "image/png": "[encoded data removed]",
            "text/plain": [
              "<Figure size 432x288 with 1 Axes>"
            ]
          },
          "metadata": {
            "needs_background": "light"
          }
        }
      ]
    },
    {
      "cell_type": "code",
      "metadata": {
        "colab": {
          "base_uri": "https://localhost:8080/",
          "height": 97
        },
        "id": "aqrJcr2N7VMO",
        "outputId": "3413ab6a-2136-4bb1-e17b-c72e245d4be1"
      },
      "source": [
        " \n",
        "#Handwitten data strored in MNIST dataset. Here, I plot elements value stored from index 0 to 19\n",
        "fig=plt.figure(figsize=(10, 3))\n",
        "for i in range(20) :\n",
        "  Im=fig.add_subplot(2,10, i+1,xticks=[],yticks=[])#add all subplots\n",
        "  Im.imshow(np.squeeze(X_train[i]), cmap='gray')#\n",
        "  Im.set_title(Y_train[i])"
      ],
      "execution_count": null,
      "outputs": [
        {
          "output_type": "display_data",
          "data": {
            "image/png": "[encoded data removed]",
            "text/plain": [
              "<Figure size 720x216 with 20 Axes>"
            ]
          },
          "metadata": {}
        }
      ]
    },
    {
      "cell_type": "markdown",
      "metadata": {
        "id": "nFSh8m_1HXSp"
      },
      "source": [
        "#**Normalization of Dataset**(Values in array will lie between 0 to 1)"
      ]
    },
    {
      "cell_type": "code",
      "metadata": {
        "colab": {
          "base_uri": "https://localhost:8080/",
          "height": 302
        },
        "id": "jZDGsUe7zvuR",
        "outputId": "0143a144-edde-4efa-b7e7-21c2bbe1475a"
      },
      "source": [
        "X_train=tf.keras.utils.normalize(X_train, axis=1)#normalization or divide the array index value by 255 in X_train dataset \n",
        "X_test=tf.keras.utils.normalize(X_test, axis=1)#normalization of X_test dataset\n",
        "plt.imshow(X_train[150],cmap=matplotlib.cm.binary)"
      ],
      "execution_count": null,
      "outputs": [
        {
          "output_type": "execute_result",
          "data": {
            "text/plain": [
              "<matplotlib.image.AxesImage at 0x7f90951bc9d0>"
            ]
          },
          "metadata": {},
          "execution_count": 53
        },
        {
          "output_type": "display_data",
          "data": {
            "image/png": "[encoded data removed]",
            "text/plain": [
              "<Figure size 432x288 with 1 Axes>"
            ]
          },
          "metadata": {
            "needs_background": "light"
          }
        }
      ]
    },
    {
      "cell_type": "code",
      "metadata": {
        "colab": {
          "base_uri": "https://localhost:8080/"
        },
        "id": "HwaLHYkF1P8Y",
        "outputId": "68b879c7-49e0-4de7-f6a9-d9fb66644dc9"
      },
      "source": [
        "print(\"Size of the X_train data\",X_train.shape,\"is 2-D.\")"
      ],
      "execution_count": null,
      "outputs": [
        {
          "output_type": "stream",
          "text": [
            "Size of the X_train data (60000, 28, 28) is 2-D.\n"
          ],
          "name": "stdout"
        }
      ]
    },
    {
      "cell_type": "markdown",
      "metadata": {
        "id": "snIc-p1AIPUb"
      },
      "source": [
        "**Conversion of 2-Dimension array dataset into 1-Dimension for the formation of input neural network nodes**"
      ]
    },
    {
      "cell_type": "code",
      "metadata": {
        "colab": {
          "base_uri": "https://localhost:8080/"
        },
        "id": "rNpVF_jd1FTH",
        "outputId": "e80b6ff7-db75-4961-a4c0-665df55c242b"
      },
      "source": [
        " \n",
        "#Reshape function in numpy library will helps to convert 2-D to 1-D\n",
        "X_train_reshape=X_train.reshape(len(X_train), 28*28)\n",
        "print(\"Now,size of X_train data is\",X_train_reshape.shape) \n",
        "X_test_reshape=X_test.reshape(len(X_test), 28*28)\n",
        "print(\"Now,Size of X_test data is\",X_test_reshape.shape)"
      ],
      "execution_count": null,
      "outputs": [
        {
          "output_type": "stream",
          "text": [
            "Now,size of X_train data is (60000, 784)\n",
            "Now,Size of X_test data is (10000, 784)\n"
          ],
          "name": "stdout"
        }
      ]
    },
    {
      "cell_type": "markdown",
      "metadata": {
        "id": "QeLcT0hdKkrZ"
      },
      "source": [
        "#**Neural network Formation**\n",
        "**Here, we form 3 layers in which**\n",
        " \n",
        "**1-Input Layer**\n",
        " \n",
        "**2-Hidden Layer**\n",
        " \n",
        "**3-Output Layer**"
      ]
    },
    {
      "cell_type": "code",
      "metadata": {
        "colab": {
          "base_uri": "https://localhost:8080/"
        },
        "id": "NcF8MkqMzaMf",
        "outputId": "05df9dde-84ab-4aaf-f475-3eb4d7e1b5e3"
      },
      "source": [
        " \n",
        "#Formed 788 input layers, Hidden layers and 10 output layers with activation functions relu and sigmoid\n",
        "model=keras.Sequential([keras.layers.Dense(60,input_shape=(784,),activation='relu'), \n",
        "keras.layers.Dense(100,activation='relu'), \n",
        "keras.layers.Dropout(0.2), \n",
        "keras.layers.Dense(10,activation='sigmoid')])\n",
        "#model compiling\n",
        "model.compile(optimizer='adam', loss='sparse_categorical_crossentropy', metrics=['accuracy'])\n",
        "#Fitting the data train value in model for predicting the handwritten value in dataset\n",
        "model.fit(X_train_reshape, Y_train, epochs=6, validation_split=0.3)"
      ],
      "execution_count": null,
      "outputs": [
        {
          "output_type": "stream",
          "text": [
            "Epoch 1/6\n",
            "1313/1313 [==============================] - 4s 3ms/step - loss: 0.4051 - accuracy: 0.8828 - val_loss: 0.2206 - val_accuracy: 0.9332\n",
            "Epoch 2/6\n",
            "1313/1313 [==============================] - 4s 3ms/step - loss: 0.1906 - accuracy: 0.9418 - val_loss: 0.1658 - val_accuracy: 0.9496\n",
            "Epoch 3/6\n",
            "1313/1313 [==============================] - 4s 3ms/step - loss: 0.1396 - accuracy: 0.9574 - val_loss: 0.1567 - val_accuracy: 0.9516\n",
            "Epoch 4/6\n",
            "1313/1313 [==============================] - 3s 3ms/step - loss: 0.1112 - accuracy: 0.9660 - val_loss: 0.1329 - val_accuracy: 0.9606\n",
            "Epoch 5/6\n",
            "1313/1313 [==============================] - 4s 3ms/step - loss: 0.0901 - accuracy: 0.9715 - val_loss: 0.1353 - val_accuracy: 0.9594\n",
            "Epoch 6/6\n",
            "1313/1313 [==============================] - 3s 3ms/step - loss: 0.0757 - accuracy: 0.9763 - val_loss: 0.1318 - val_accuracy: 0.9604\n"
          ],
          "name": "stdout"
        },
        {
          "output_type": "execute_result",
          "data": {
            "text/plain": [
              "<keras.callbacks.History at 0x7f90964ba750>"
            ]
          },
          "metadata": {},
          "execution_count": 57
        }
      ]
    },
    {
      "cell_type": "code",
      "metadata": {
        "colab": {
          "base_uri": "https://localhost:8080/"
        },
        "id": "hMTQzLw3Q7hA",
        "outputId": "47a41406-9ce8-4c75-dbb8-04ebc24605f0"
      },
      "source": [
        "model.summary ()#It shows the summary of the model"
      ],
      "execution_count": null,
      "outputs": [
        {
          "output_type": "stream",
          "text": [
            "Model: \"sequential_1\"\n",
            "_________________________________________________________________\n",
            "Layer (type)                 Output Shape              Param #   \n",
            "=================================================================\n",
            "dense_3 (Dense)              (None, 60)                47100     \n",
            "_________________________________________________________________\n",
            "dense_4 (Dense)              (None, 100)               6100      \n",
            "_________________________________________________________________\n",
            "dropout_1 (Dropout)          (None, 100)               0         \n",
            "_________________________________________________________________\n",
            "dense_5 (Dense)              (None, 10)                1010      \n",
            "=================================================================\n",
            "Total params: 54,210\n",
            "Trainable params: 54,210\n",
            "Non-trainable params: 0\n",
            "_________________________________________________________________\n"
          ],
          "name": "stdout"
        }
      ]
    },
    {
      "cell_type": "code",
      "metadata": {
        "colab": {
          "base_uri": "https://localhost:8080/",
          "height": 330
        },
        "id": "Y85G9LrkQ_oU",
        "outputId": "0280aded-cbcc-47da-ce70-c8af73f414d6"
      },
      "source": [
        " #Here, we plot the flow of the model\n",
        "plot_model(model,'model.jpg',show_shapes=True)"
      ],
      "execution_count": null,
      "outputs": [
        {
          "output_type": "execute_result",
          "data": {
            "image/jpeg": "[encoded data removed]",
            "text/plain": [
              "<IPython.core.display.Image object>"
            ]
          },
          "metadata": {},
          "execution_count": 61
        }
      ]
    },
    {
      "cell_type": "markdown",
      "metadata": {
        "id": "ewEloXM0Ne_3"
      },
      "source": [
        "#**Model Evaluation**"
      ]
    },
    {
      "cell_type": "code",
      "metadata": {
        "colab": {
          "base_uri": "https://localhost:8080/"
        },
        "id": "8H-7Z_WuA5v3",
        "outputId": "f595afb9-b83e-4091-e91a-b3b8ff731515"
      },
      "source": [
        "Loss, Accuracy=model.evaluate(X_test_reshape, Y_test)#It will evaluate the loss and accuracy of the model\n",
        "print(\"By recognition the accuracy of the model is\", Accuracy*100,\"%\", \"and loss is\", Loss)"
      ],
      "execution_count": null,
      "outputs": [
        {
          "output_type": "stream",
          "text": [
            "313/313 [==============================] - 0s 1ms/step - loss: 0.1148 - accuracy: 0.9671\n",
            "By recognition the accuracy of the model is 96.71000242233276 % and loss is 0.11476144939661026\n"
          ],
          "name": "stdout"
        }
      ]
    },
    {
      "cell_type": "markdown",
      "metadata": {
        "id": "3CdwJwb-N5C_"
      },
      "source": [
        "#**Checking Predicted value is same as data test value or not**"
      ]
    },
    {
      "cell_type": "code",
      "metadata": {
        "id": "E2bsoIhXPCai"
      },
      "source": [
        "Y_Predicted=model.predict(X_test_reshape)"
      ],
      "execution_count": null,
      "outputs": []
    },
    {
      "cell_type": "code",
      "metadata": {
        "colab": {
          "base_uri": "https://localhost:8080/"
        },
        "id": "RBJsCKvIRfJu",
        "outputId": "a1f3a291-742b-407c-81f6-9805d2c4de51"
      },
      "source": [
        "#Here, It find out highest weighted predicted value by using argmax function\n",
        "Y_Predicted_Values=[np.argmax(i) for i in Y_Predicted]\n",
        "Y_Predicted_Values[:10]"
      ],
      "execution_count": null,
      "outputs": [
        {
          "output_type": "execute_result",
          "data": {
            "text/plain": [
              "[7, 2, 1, 0, 4, 1, 4, 9, 5, 9]"
            ]
          },
          "metadata": {},
          "execution_count": 70
        }
      ]
    },
    {
      "cell_type": "code",
      "metadata": {
        "colab": {
          "base_uri": "https://localhost:8080/"
        },
        "id": "RHLjik7ZFj-M",
        "outputId": "5b674bec-5e76-40b0-8891-325d9a437a79"
      },
      "source": [
        "Y_test[:10]"
      ],
      "execution_count": null,
      "outputs": [
        {
          "output_type": "execute_result",
          "data": {
            "text/plain": [
              "array([7, 2, 1, 0, 4, 1, 4, 9, 5, 9], dtype=uint8)"
            ]
          },
          "metadata": {},
          "execution_count": 74
        }
      ]
    },
    {
      "cell_type": "code",
      "metadata": {
        "colab": {
          "base_uri": "https://localhost:8080/",
          "height": 312
        },
        "id": "ZoKTXfksR8KO",
        "outputId": "482887a3-72b1-40a7-ce28-a9b8775a8c7b"
      },
      "source": [
        " plt.matshow(X_test[1000])"
      ],
      "execution_count": null,
      "outputs": [
        {
          "output_type": "execute_result",
          "data": {
            "text/plain": [
              "<matplotlib.image.AxesImage at 0x7f9095704050>"
            ]
          },
          "metadata": {},
          "execution_count": 75
        },
        {
          "output_type": "display_data",
          "data": {
            "image/png": "[encoded data removed]",
            "text/plain": [
              "<Figure size 288x288 with 1 Axes>"
            ]
          },
          "metadata": {
            "needs_background": "light"
          }
        }
      ]
    },
    {
      "cell_type": "code",
      "metadata": {
        "colab": {
          "base_uri": "https://localhost:8080/"
        },
        "id": "YVpDt2B6R_-t",
        "outputId": "78bd4e2f-ab99-42d0-f4d3-ee7abee3b145"
      },
      "source": [
        " \n",
        "Y_Predicted [1000]"
      ],
      "execution_count": null,
      "outputs": [
        {
          "output_type": "execute_result",
          "data": {
            "text/plain": [
              "array([1.0415603e-04, 3.9685667e-03, 7.4309319e-06, 9.3321645e-01,\n",
              "       3.2522944e-01, 4.3113530e-03, 2.9647358e-08, 7.1461475e-01,\n",
              "       1.1867285e-03, 9.9958879e-01], dtype=float32)"
            ]
          },
          "metadata": {},
          "execution_count": 76
        }
      ]
    },
    {
      "cell_type": "markdown",
      "metadata": {
        "id": "j5YTijYlRhDP"
      },
      "source": [
        "**As here we can see that Y_predicted value is same as Y_test value**"
      ]
    },
    {
      "cell_type": "code",
      "metadata": {
        "colab": {
          "base_uri": "https://localhost:8080/"
        },
        "id": "CSgm0OMeSE_7",
        "outputId": "6e50884b-3d95-4cb9-c1cb-07b3c8a065b4"
      },
      "source": [
        " np.argmax(Y_Predicted [1000])"
      ],
      "execution_count": null,
      "outputs": [
        {
          "output_type": "execute_result",
          "data": {
            "text/plain": [
              "9"
            ]
          },
          "metadata": {},
          "execution_count": 77
        }
      ]
    },
    {
      "cell_type": "code",
      "metadata": {
        "colab": {
          "base_uri": "https://localhost:8080/"
        },
        "id": "EAs--aS6PMGu",
        "outputId": "3273496b-fc3d-470b-cb26-0142ebe35ffe"
      },
      "source": [
        "Y_test [1000]"
      ],
      "execution_count": null,
      "outputs": [
        {
          "output_type": "execute_result",
          "data": {
            "text/plain": [
              "9"
            ]
          },
          "metadata": {},
          "execution_count": 78
        }
      ]
    },
    {
      "cell_type": "markdown",
      "metadata": {
        "id": "-SeWMZ2URtcO"
      },
      "source": [
        "Other figure, Prediction"
      ]
    },
    {
      "cell_type": "code",
      "metadata": {
        "colab": {
          "base_uri": "https://localhost:8080/",
          "height": 312
        },
        "id": "avCdPCZOP1_B",
        "outputId": "bab7b284-b752-4d45-c011-80d6529e94d3"
      },
      "source": [
        " plt.matshow(X_test[5886],cmap=matplotlib.cm.binary)"
      ],
      "execution_count": null,
      "outputs": [
        {
          "output_type": "execute_result",
          "data": {
            "text/plain": [
              "<matplotlib.image.AxesImage at 0x7f90956f4710>"
            ]
          },
          "metadata": {},
          "execution_count": 79
        },
        {
          "output_type": "display_data",
          "data": {
            "image/png": "[encoded data removed]",
            "text/plain": [
              "<Figure size 288x288 with 1 Axes>"
            ]
          },
          "metadata": {
            "needs_background": "light"
          }
        }
      ]
    },
    {
      "cell_type": "code",
      "metadata": {
        "colab": {
          "base_uri": "https://localhost:8080/"
        },
        "id": "ITGi2ZmVQpNE",
        "outputId": "28945107-4d35-4fde-c751-fbd4867fb922"
      },
      "source": [
        "  Y_Predicted=model.predict(X_test_reshape)\n",
        "Y_Predicted [5886]#Here we get 10 probability values of 10 ouput layer nodes"
      ],
      "execution_count": null,
      "outputs": [
        {
          "output_type": "execute_result",
          "data": {
            "text/plain": [
              "array([4.0305287e-02, 3.9098412e-02, 6.7966694e-01, 1.6814083e-02,\n",
              "       3.8582832e-02, 5.2669644e-02, 9.9975395e-01, 9.3999282e-05,\n",
              "       1.0995138e-01, 1.0134495e-06], dtype=float32)"
            ]
          },
          "metadata": {},
          "execution_count": 81
        }
      ]
    },
    {
      "cell_type": "markdown",
      "metadata": {
        "id": "bci8D8uhSSXC"
      },
      "source": [
        "**Again same result, Predicted value is same as test value**"
      ]
    },
    {
      "cell_type": "code",
      "metadata": {
        "colab": {
          "base_uri": "https://localhost:8080/"
        },
        "id": "u6z280MaS3Pm",
        "outputId": "36626665-395e-4183-978f-6e9195c94300"
      },
      "source": [
        "  np.argmax(Y_Predicted [5886])#It give the highest probability value"
      ],
      "execution_count": null,
      "outputs": [
        {
          "output_type": "execute_result",
          "data": {
            "text/plain": [
              "6"
            ]
          },
          "metadata": {},
          "execution_count": 82
        }
      ]
    },
    {
      "cell_type": "code",
      "metadata": {
        "colab": {
          "base_uri": "https://localhost:8080/"
        },
        "id": "W3wB4PITSMsA",
        "outputId": "8c3efa51-54c8-4635-ac2e-35e137efe4ad"
      },
      "source": [
        "Y_test[5886]"
      ],
      "execution_count": null,
      "outputs": [
        {
          "output_type": "execute_result",
          "data": {
            "text/plain": [
              "6"
            ]
          },
          "metadata": {},
          "execution_count": 83
        }
      ]
    },
    {
      "cell_type": "code",
      "metadata": {
        "colab": {
          "base_uri": "https://localhost:8080/"
        },
        "id": "hYMVN5EmHJn4",
        "outputId": "5dd5431a-56ed-49ad-8ae5-b257551e6978"
      },
      "source": [
        "Y=tf.math.confusion_matrix(labels=Y_test, predictions=Y_Predicted_Values)\n",
        "Y"
      ],
      "execution_count": null,
      "outputs": [
        {
          "output_type": "execute_result",
          "data": {
            "text/plain": [
              "<tf.Tensor: shape=(10, 10), dtype=int32, numpy=\n",
              "array([[ 963,    1,    0,    1,    2,    4,    1,    2,    2,    4],\n",
              "       [   0, 1123,    3,    2,    0,    0,    2,    0,    5,    0],\n",
              "       [   6,    3,  990,   15,    4,    0,    1,    6,    7,    0],\n",
              "       [   0,    1,    2,  975,    0,   15,    0,    6,    9,    2],\n",
              "       [   1,    2,    4,    0,  948,    0,    2,    1,    3,   21],\n",
              "       [   2,    0,    0,   11,    1,  862,    3,    3,    7,    3],\n",
              "       [   7,    2,    1,    4,    7,    9,  923,    0,    5,    0],\n",
              "       [   2,    7,   14,    2,    0,    0,    0,  994,    1,    8],\n",
              "       [   2,    1,    2,   12,    7,    9,    3,    3,  933,    2],\n",
              "       [   3,    7,    0,   15,    7,    8,    0,    4,    5,  960]],\n",
              "      dtype=int32)>"
            ]
          },
          "metadata": {},
          "execution_count": 111
        }
      ]
    },
    {
      "cell_type": "code",
      "metadata": {
        "id": "O5eYQyl8Mz-u",
        "colab": {
          "base_uri": "https://localhost:8080/",
          "height": 241
        },
        "outputId": "7dbdd12a-b335-4934-b216-06ebc1ba61da"
      },
      "source": [
        "import seaborn as sns\n",
        "sns.heatmap(Y,annot=True,fmt='d',cmap='Reds',annot_kws={'fontsize':10,'fontweight':'bold'})"
      ],
      "execution_count": null,
      "outputs": [
        {
          "output_type": "execute_result",
          "data": {
            "text/plain": [
              "<matplotlib.axes._subplots.AxesSubplot at 0x7f9090c3ec50>"
            ]
          },
          "metadata": {},
          "execution_count": 109
        },
        {
          "output_type": "display_data",
          "data": {
            "image/png": "[encoded data removed]",
            "text/plain": [
              "<Figure size 432x288 with 2 Axes>"
            ]
          },
          "metadata": {
            "needs_background": "light"
          }
        }
      ]
    }
  ]
}