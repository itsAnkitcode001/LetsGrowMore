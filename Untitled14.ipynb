{
  "nbformat": 4,
  "nbformat_minor": 0,
  "metadata": {
    "colab": {
      "name": "Untitled14.ipynb",
      "provenance": [],
      "collapsed_sections": [],
      "authorship_tag": "ABX9TyPTnhwlFWj6PoZlkKb+6RX1",
      "include_colab_link": true
    },
    "kernelspec": {
      "name": "python3",
      "display_name": "Python 3"
    },
    "language_info": {
      "name": "python"
    }
  },
  "cells": [
    {
      "cell_type": "markdown",
      "metadata": {
        "id": "view-in-github",
        "colab_type": "text"
      },
      "source": [
        "<a href=\"https://colab.research.google.com/github/itsAnkitcode001/LetsGrowMore/blob/main/Untitled14.ipynb\" target=\"_parent\"><img src=\"https://colab.research.google.com/assets/colab-badge.svg\" alt=\"Open In Colab\"/></a>"
      ]
    },
    {
      "cell_type": "code",
      "metadata": {
        "colab": {
          "base_uri": "https://localhost:8080/"
        },
        "id": "c7qbT4dVge_D",
        "outputId": "205df750-2c5b-41bb-fc77-6fad03584397"
      },
      "source": [
        "n=input(\"Enter you designation\\n\").lower()\n",
        "Student=[]\n",
        "Courses=[]\n",
        "question=[]\n",
        "t=[]\n",
        "student_response=[]\n",
        "summ=0\n",
        "def ADD_COURSE():\n",
        "  Ad=input(\"Course want to add\")\n",
        "  Courses.append(Ad)\n",
        "def REMOVE_COURSE():\n",
        "   Rem=input(\"Course name you want to remove\")\n",
        "   Courses.remove(Rem)\n",
        "   print(Courses)\n",
        "def DELETE():\n",
        "  Rem=input(\"Course name you want to delete\")\n",
        "  Courses.remove(Rem)\n",
        "  print(Courses)\n",
        "\n",
        "\n",
        "\n",
        "if(n==\"teacher\"):\n",
        "   print(\"You task is that you need to firstly mention the length of the class and Enter the names of student according to there roll no\")\n",
        "   n=int(input(\"Class strength\\t\"))\n",
        "   #f=open(\"abc.txt\",\"w\")\n",
        "   Database_Student={i:input(\"Student name\\t\") for i in range(1,n+1)}\n",
        "   #f.write(str(Database_Student))\n",
        "   #f.close()\n",
        "   print(\"Database of student has been created\")\n",
        "   print(\"Enter no. Of courses\")\n",
        "   s=int(input())\n",
        "   #f=open(\"abcd.txt\",\"w\")\n",
        "   for i in range(s):\n",
        "     \n",
        "     Database_course=input(\"Courses\\t\").upper()\n",
        "     #courses.append(Database_course)\n",
        "     #f.write(str(Database_course))\n",
        "     q_n=int(input(\"NO of questions you want to add\"))\n",
        "     for j in range(q_n):\n",
        "        print(\"Enter question no\",j)\n",
        "        question.append(input())\n",
        "   for i in question:\n",
        "      print(\"Ques\",i)\n",
        "      t.append(input(\"Answer\"))\n",
        "   question_bank={i:j for i in question for j in t}\n",
        "   print(\"All set for students\")   \n",
        "   roll=int(input(\"Enter your roll no\"))\n",
        "   print(\"Name is\",Database_Student[roll])\n",
        "   for q in question:\n",
        "      print(\"Ques :\",q)\n",
        "      student_response.append(input(\"ANSWER\"))\n",
        "   question_answer={i:j for i in question for j in student_response}\n",
        "   for i in question:\n",
        "     if(question_bank[i]==question_answer[i]):\n",
        "       summ=sum+1\n",
        "   print(\"YOUR SCORE IS\",summ)   \n",
        "print(\"1-DO YOU WANT TO ADD COURSES(ENTER ADD)\\n2-DO YOU WANT TO REMOVE COURSE(ENTER REMOVE)\\n 3-DO YOU WANT TO EDIT(ENTER EDIT)\\n4-DO YOU WANT TO DELETE COURSES(ENTER DELETE)\\n\")\n",
        "key=input(\"Enter your key\").upper()\n",
        "if(key==\"ADD\"):\n",
        "    ADD_COURSE()\n",
        "elif(key==\"Remove\"):\n",
        "    REMOVE_COURSE()\n",
        "elif(key==\"EDIT\"):\n",
        "    EDIT()\n",
        "elif(key==\"DELETE\"):\n",
        "    DELETE()\n",
        "   \n",
        "    \n",
        "    \n",
        "      "
      ],
      "execution_count": null,
      "outputs": [
        {
          "output_type": "stream",
          "name": "stdout",
          "text": [
            "Enter you designation\n",
            "TEACHER\n",
            "You task is that you need to firstly mention the length of the class and Enter the names of student according to there roll no\n",
            "Class strength\t2\n",
            "Student name\tANKIT SINGH CHAUHAN\n",
            "Student name\tHIMANSHU SINGH CHAUHAN\n",
            "Database of student has been created\n",
            "Enter no. Of courses\n",
            "3\n",
            "Courses\tMATHEMATICS\n",
            "NO of questions you want to add2\n",
            "Enter question no 0\n",
            "WHAT IS THE VALUE OF 2+7\n",
            "Enter question no 1\n",
            "WHAT IS 2*9\n",
            "Courses\tSCIENCE\n",
            "NO of questions you want to add2\n",
            "Enter question no 0\n",
            "BASIC UNIT OF CELLS\n",
            "Enter question no 1\n",
            "TRANSPORTATION OF WATER IN PLANT BY?\n",
            "Courses\tSST\n",
            "NO of questions you want to add1\n",
            "Enter question no 0\n",
            "MINIMUM AGE OF PM\n",
            "Ques WHAT IS THE VALUE OF 2+7\n",
            "Answer9\n",
            "Ques WHAT IS 2*9\n",
            "Answer18\n",
            "Ques BASIC UNIT OF CELLS\n",
            "AnswerCELLS\n",
            "Ques TRANSPORTATION OF WATER IN PLANT BY?\n",
            "AnswerXYLEM\n",
            "Ques MINIMUM AGE OF PM\n",
            "Answer45\n",
            "All set for students\n",
            "Enter your roll no2\n",
            "Name is HIMANSHU SINGH CHAUHAN\n",
            "Ques : WHAT IS THE VALUE OF 2+7\n",
            "ANSWER6\n",
            "Ques : WHAT IS 2*9\n",
            "ANSWER18\n",
            "Ques : BASIC UNIT OF CELLS\n",
            "ANSWERCELLS\n",
            "Ques : TRANSPORTATION OF WATER IN PLANT BY?\n",
            "ANSWERXYLEM\n",
            "Ques : MINIMUM AGE OF PM\n",
            "ANSWER55\n",
            "YOUR SCORE IS 0\n",
            "1-DO YOU WANT TO ADD COURSES(ENTER ADD)\n",
            "2-DO YOU WANT TO REMOVE COURSE(ENTER REMOVE)\n",
            " 3-DO YOU WANT TO EDIT(ENTER EDIT)\n",
            "4-DO YOU WANT TO DELETE COURSES(ENTER DELETE)\n",
            "\n"
          ]
        }
      ]
    },
    {
      "cell_type": "code",
      "metadata": {
        "colab": {
          "base_uri": "https://localhost:8080/"
        },
        "id": "pY3Sec7qg6n6",
        "outputId": "96f3e334-d183-4338-da13-6751bb09555c"
      },
      "source": [
        "question"
      ],
      "execution_count": 11,
      "outputs": [
        {
          "output_type": "execute_result",
          "data": {
            "text/plain": [
              "['WHAT IS FACTORIAL 0',\n",
              " 'WHAT IS FACTORIAL OF 1',\n",
              " 'BASIC UNIT OF LIFE',\n",
              " '1CM EQUAL TO']"
            ]
          },
          "metadata": {},
          "execution_count": 11
        }
      ]
    },
    {
      "cell_type": "code",
      "metadata": {
        "colab": {
          "base_uri": "https://localhost:8080/"
        },
        "id": "wFnPhD-Z-QDV",
        "outputId": "263df78b-4567-4c6f-b1ce-77ce4d13ee4e"
      },
      "source": [
        "(question_bank)"
      ],
      "execution_count": 8,
      "outputs": [
        {
          "output_type": "execute_result",
          "data": {
            "text/plain": [
              "{'2*90': '180', 'a8*0': '180'}"
            ]
          },
          "metadata": {},
          "execution_count": 8
        }
      ]
    }
  ]
}