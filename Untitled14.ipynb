{
  "nbformat": 4,
  "nbformat_minor": 0,
  "metadata": {
    "colab": {
      "name": "Untitled14.ipynb",
      "provenance": [],
      "collapsed_sections": [],
      "authorship_tag": "ABX9TyMvrr43ifkxfMgjfivPaDOR",
      "include_colab_link": true
    },
    "kernelspec": {
      "name": "python3",
      "display_name": "Python 3"
    },
    "language_info": {
      "name": "python"
    }
  },
  "cells": [
    {
      "cell_type": "markdown",
      "metadata": {
        "id": "view-in-github",
        "colab_type": "text"
      },
      "source": [
        "<a href=\"https://colab.research.google.com/github/itsAnkitcode001/LetsGrowMore/blob/main/Untitled14.ipynb\" target=\"_parent\"><img src=\"https://colab.research.google.com/assets/colab-badge.svg\" alt=\"Open In Colab\"/></a>"
      ]
    },
    {
      "cell_type": "code",
      "metadata": {
        "id": "3AP-hAV2uIPP",
        "colab": {
          "base_uri": "https://localhost:8080/"
        },
        "outputId": "8ee2d960-0dd5-4d15-f676-6ef45045e756"
      },
      "source": [
        "n=input(\"Enter you designation\\n\").lower()\n",
        "Student=[]\n",
        "Courses=[]\n",
        "summ=0\n",
        "def ADD_COURSE(course_name=\"sst\"):\n",
        "  \n",
        "  f.write(course_name)\n",
        "  h=f.read()\n",
        "  Courses.append(h)\n",
        "  f.close()\n",
        "\n",
        "\n",
        "if(n==\"teacher\"):\n",
        "   print(\"You task is that you need to firstly mention the length of the class and Enter the names of student according to there roll no\")\n",
        "   n=int(input(\"Class strength\\t\"))\n",
        "   #f=open(\"abc.txt\",\"w\")\n",
        "   Database_Student={i:input(\"Student name\\t\") for i in range(1,n+1)}\n",
        "   #f.write(str(Database_Student))\n",
        "   #f.close()\n",
        "   print(\"Database of student has been created\")\n",
        "   print(\"Enter no. Of courses\")\n",
        "   s=int(input())\n",
        "   #f=open(\"abcd.txt\",\"w\")\n",
        "   for i in range(s):\n",
        "     question=[]\n",
        "     Database_course=input(\"Courses\\t\").upper()\n",
        "     #courses.append(Database_course)\n",
        "     #f.write(str(Database_course))\n",
        "     q_n=int(input(\"NO of questions you want to add\"))\n",
        "     for i in range(q_n):\n",
        "        print(\"Enter question no\",i)\n",
        "        question.append(input())\n",
        "     for i in range(q_n):\n",
        "        print(\"Enter answer of this question\",i)\n",
        "        question_bank={i:input() for i in question}\n",
        "        #f.write(str(question_bank))\n",
        "    \n",
        "   print(\"All set for students\")   \n",
        "   roll=int(input(\"Enter your roll no\"))\n",
        "   print(\"Name is\",Database_Student[roll])\n",
        "   for i in question:\n",
        "     print((i))\n",
        "     students_response={i:input(\"Answer\")}\n",
        "   for i in question:\n",
        "     if(students_response[i]==question_bank[i]):\n",
        "        summ=summ+1\n",
        "   print(\"Your score is\",summ)\n",
        "\n",
        "   #ff.close()\n",
        "  print(\"1-DO YOU WANT TO ADD COURSES(ENTER ADD)\\n2-DO YOU WANT TO REMOVE COURSE(ENTER REMOVE)\\n 3-DO YOU WANT TO EDIT(ENTER EDIT)\\n4-DO YOU WANT TO DELETE COURSES(ENTER DELETE)\\n\")\n",
        "   key=input(\"Enter your key\").upper()\n",
        "   if(key==\"ADD\"):\n",
        "     ADD_COURSE()\n",
        "\n",
        "\n",
        "\n",
        "\n"
      ],
      "execution_count": 82,
      "outputs": [
        {
          "output_type": "stream",
          "name": "stdout",
          "text": [
            "Enter you designation\n",
            "teacher\n",
            "You task is that you need to firstly mention the length of the class and Enter the names of student according to there roll no\n",
            "Class strength\t1\n",
            "Student name\tas\n",
            "Database of student has been created\n",
            "Enter no. Of courses\n",
            "2\n",
            "Courses\tmath\n",
            "NO of questions you want to add1\n",
            "Enter question no 0\n",
            "4*6\n",
            "Enter answer of this question 0\n",
            "24\n",
            "Courses\tsci\n",
            "NO of questions you want to add1\n",
            "Enter question no 0\n",
            "4*6\n",
            "Enter answer of this question 0\n",
            "24\n",
            "All set for students\n",
            "Enter your roll no1\n",
            "Name is as\n",
            "4*6\n",
            "Answer22\n",
            "Your score is 0\n"
          ]
        }
      ]
    }
  ]
}