{
  "nbformat": 4,
  "nbformat_minor": 0,
  "metadata": {
    "colab": {
      "name": "Untitled4.ipynb",
      "provenance": [],
      "collapsed_sections": [],
      "mount_file_id": "16wnKzzOwJcFR-3IRvksf34NDvGBCX70s",
      "authorship_tag": "ABX9TyMjxLjv9R6zC1805xI+kf70",
      "include_colab_link": true
    },
    "kernelspec": {
      "name": "python3",
      "display_name": "Python 3"
    },
    "language_info": {
      "name": "python"
    }
  },
  "cells": [
    {
      "cell_type": "markdown",
      "metadata": {
        "id": "view-in-github",
        "colab_type": "text"
      },
      "source": [
        "<a href=\"https://colab.research.google.com/github/itsAnkitcode001/LetsGrowMore/blob/main/Untitled4.ipynb\" target=\"_parent\"><img src=\"https://colab.research.google.com/assets/colab-badge.svg\" alt=\"Open In Colab\"/></a>"
      ]
    },
    {
      "cell_type": "markdown",
      "metadata": {
        "id": "vJKOuDvSLtG0"
      },
      "source": [
        "ItS Abhishek Gauatam\n",
        "\n",
        "\n"
      ]
    },
    {
      "cell_type": "code",
      "metadata": {
        "colab": {
          "base_uri": "https://localhost:8080/"
        },
        "id": "LmTcxla8EgCg",
        "outputId": "83bbd8d5-dbc7-4c39-fb12-192f012e5003"
      },
      "source": [
        "#import file from google colab by using pandas\n",
        "from google.colab import drive\n",
        "drive.mount('/content/drive')"
      ],
      "execution_count": null,
      "outputs": [
        {
          "output_type": "stream",
          "text": [
            "Drive already mounted at /content/drive; to attempt to forcibly remount, call drive.mount(\"/content/drive\", force_remount=True).\n"
          ],
          "name": "stdout"
        }
      ]
    },
    {
      "cell_type": "code",
      "metadata": {
        "id": "beaU4ZBdE29p"
      },
      "source": [
        "import pandas as pd\n",
        "import matplotlib.pyplot as plt\n",
        "import seaborn as sns"
      ],
      "execution_count": null,
      "outputs": []
    },
    {
      "cell_type": "code",
      "metadata": {
        "colab": {
          "base_uri": "https://localhost:8080/",
          "height": 406
        },
        "id": "rLJq4dh-E7FQ",
        "outputId": "9eabf838-ba55-4f93-9ddd-e2c7d4b2bba5"
      },
      "source": [
        "#HERE,I AM EXTRACTING THE DATA FROM DATAFRAME AND HERE I USE ENCODING THAT HELPS ME FOR EXTRACTING LARGE FILE\n",
        "dfs=pd.read_csv('/content/drive/MyDrive/Colab Notebooks/Data/global.csv', encoding='ISO-8859-1')\n",
        "dfs.head(5)"
      ],
      "execution_count": null,
      "outputs": [
        {
          "output_type": "stream",
          "text": [
            "/usr/local/lib/python3.7/dist-packages/IPython/core/interactiveshell.py:2718: DtypeWarning: Columns (4,6,31,33,61,62,63,76,79,90,92,94,96,114,115,121) have mixed types.Specify dtype option on import or set low_memory=False.\n",
            "  interactivity=interactivity, compiler=compiler, result=result)\n"
          ],
          "name": "stderr"
        },
        {
          "output_type": "execute_result",
          "data": {
            "text/html": [
              "<div>\n",
              "<style scoped>\n",
              "    .dataframe tbody tr th:only-of-type {\n",
              "        vertical-align: middle;\n",
              "    }\n",
              "\n",
              "    .dataframe tbody tr th {\n",
              "        vertical-align: top;\n",
              "    }\n",
              "\n",
              "    .dataframe thead th {\n",
              "        text-align: right;\n",
              "    }\n",
              "</style>\n",
              "<table border=\"1\" class=\"dataframe\">\n",
              "  <thead>\n",
              "    <tr style=\"text-align: right;\">\n",
              "      <th></th>\n",
              "      <th>eventid</th>\n",
              "      <th>iyear</th>\n",
              "      <th>imonth</th>\n",
              "      <th>iday</th>\n",
              "      <th>approxdate</th>\n",
              "      <th>extended</th>\n",
              "      <th>resolution</th>\n",
              "      <th>country</th>\n",
              "      <th>country_txt</th>\n",
              "      <th>region</th>\n",
              "      <th>region_txt</th>\n",
              "      <th>provstate</th>\n",
              "      <th>city</th>\n",
              "      <th>latitude</th>\n",
              "      <th>longitude</th>\n",
              "      <th>specificity</th>\n",
              "      <th>vicinity</th>\n",
              "      <th>location</th>\n",
              "      <th>summary</th>\n",
              "      <th>crit1</th>\n",
              "      <th>crit2</th>\n",
              "      <th>crit3</th>\n",
              "      <th>doubtterr</th>\n",
              "      <th>alternative</th>\n",
              "      <th>alternative_txt</th>\n",
              "      <th>multiple</th>\n",
              "      <th>success</th>\n",
              "      <th>suicide</th>\n",
              "      <th>attacktype1</th>\n",
              "      <th>attacktype1_txt</th>\n",
              "      <th>attacktype2</th>\n",
              "      <th>attacktype2_txt</th>\n",
              "      <th>attacktype3</th>\n",
              "      <th>attacktype3_txt</th>\n",
              "      <th>targtype1</th>\n",
              "      <th>targtype1_txt</th>\n",
              "      <th>targsubtype1</th>\n",
              "      <th>targsubtype1_txt</th>\n",
              "      <th>corp1</th>\n",
              "      <th>target1</th>\n",
              "      <th>...</th>\n",
              "      <th>weapsubtype4</th>\n",
              "      <th>weapsubtype4_txt</th>\n",
              "      <th>weapdetail</th>\n",
              "      <th>nkill</th>\n",
              "      <th>nkillus</th>\n",
              "      <th>nkillter</th>\n",
              "      <th>nwound</th>\n",
              "      <th>nwoundus</th>\n",
              "      <th>nwoundte</th>\n",
              "      <th>property</th>\n",
              "      <th>propextent</th>\n",
              "      <th>propextent_txt</th>\n",
              "      <th>propvalue</th>\n",
              "      <th>propcomment</th>\n",
              "      <th>ishostkid</th>\n",
              "      <th>nhostkid</th>\n",
              "      <th>nhostkidus</th>\n",
              "      <th>nhours</th>\n",
              "      <th>ndays</th>\n",
              "      <th>divert</th>\n",
              "      <th>kidhijcountry</th>\n",
              "      <th>ransom</th>\n",
              "      <th>ransomamt</th>\n",
              "      <th>ransomamtus</th>\n",
              "      <th>ransompaid</th>\n",
              "      <th>ransompaidus</th>\n",
              "      <th>ransomnote</th>\n",
              "      <th>hostkidoutcome</th>\n",
              "      <th>hostkidoutcome_txt</th>\n",
              "      <th>nreleased</th>\n",
              "      <th>addnotes</th>\n",
              "      <th>scite1</th>\n",
              "      <th>scite2</th>\n",
              "      <th>scite3</th>\n",
              "      <th>dbsource</th>\n",
              "      <th>INT_LOG</th>\n",
              "      <th>INT_IDEO</th>\n",
              "      <th>INT_MISC</th>\n",
              "      <th>INT_ANY</th>\n",
              "      <th>related</th>\n",
              "    </tr>\n",
              "  </thead>\n",
              "  <tbody>\n",
              "    <tr>\n",
              "      <th>0</th>\n",
              "      <td>197000000001</td>\n",
              "      <td>1970</td>\n",
              "      <td>7</td>\n",
              "      <td>2</td>\n",
              "      <td>NaN</td>\n",
              "      <td>0</td>\n",
              "      <td>NaN</td>\n",
              "      <td>58</td>\n",
              "      <td>Dominican Republic</td>\n",
              "      <td>2</td>\n",
              "      <td>Central America &amp; Caribbean</td>\n",
              "      <td>NaN</td>\n",
              "      <td>Santo Domingo</td>\n",
              "      <td>18.456792</td>\n",
              "      <td>-69.951164</td>\n",
              "      <td>1.0</td>\n",
              "      <td>0</td>\n",
              "      <td>NaN</td>\n",
              "      <td>NaN</td>\n",
              "      <td>1</td>\n",
              "      <td>1</td>\n",
              "      <td>1</td>\n",
              "      <td>0.0</td>\n",
              "      <td>NaN</td>\n",
              "      <td>NaN</td>\n",
              "      <td>0.0</td>\n",
              "      <td>1</td>\n",
              "      <td>0</td>\n",
              "      <td>1</td>\n",
              "      <td>Assassination</td>\n",
              "      <td>NaN</td>\n",
              "      <td>NaN</td>\n",
              "      <td>NaN</td>\n",
              "      <td>NaN</td>\n",
              "      <td>14</td>\n",
              "      <td>Private Citizens &amp; Property</td>\n",
              "      <td>68.0</td>\n",
              "      <td>Named Civilian</td>\n",
              "      <td>NaN</td>\n",
              "      <td>Julio Guzman</td>\n",
              "      <td>...</td>\n",
              "      <td>NaN</td>\n",
              "      <td>NaN</td>\n",
              "      <td>NaN</td>\n",
              "      <td>1.0</td>\n",
              "      <td>NaN</td>\n",
              "      <td>NaN</td>\n",
              "      <td>0.0</td>\n",
              "      <td>NaN</td>\n",
              "      <td>NaN</td>\n",
              "      <td>0</td>\n",
              "      <td>NaN</td>\n",
              "      <td>NaN</td>\n",
              "      <td>NaN</td>\n",
              "      <td>NaN</td>\n",
              "      <td>0.0</td>\n",
              "      <td>NaN</td>\n",
              "      <td>NaN</td>\n",
              "      <td>NaN</td>\n",
              "      <td>NaN</td>\n",
              "      <td>NaN</td>\n",
              "      <td>NaN</td>\n",
              "      <td>0.0</td>\n",
              "      <td>NaN</td>\n",
              "      <td>NaN</td>\n",
              "      <td>NaN</td>\n",
              "      <td>NaN</td>\n",
              "      <td>NaN</td>\n",
              "      <td>NaN</td>\n",
              "      <td>NaN</td>\n",
              "      <td>NaN</td>\n",
              "      <td>NaN</td>\n",
              "      <td>NaN</td>\n",
              "      <td>NaN</td>\n",
              "      <td>NaN</td>\n",
              "      <td>PGIS</td>\n",
              "      <td>0</td>\n",
              "      <td>0</td>\n",
              "      <td>0</td>\n",
              "      <td>0</td>\n",
              "      <td>NaN</td>\n",
              "    </tr>\n",
              "    <tr>\n",
              "      <th>1</th>\n",
              "      <td>197000000002</td>\n",
              "      <td>1970</td>\n",
              "      <td>0</td>\n",
              "      <td>0</td>\n",
              "      <td>NaN</td>\n",
              "      <td>0</td>\n",
              "      <td>NaN</td>\n",
              "      <td>130</td>\n",
              "      <td>Mexico</td>\n",
              "      <td>1</td>\n",
              "      <td>North America</td>\n",
              "      <td>Federal</td>\n",
              "      <td>Mexico city</td>\n",
              "      <td>19.371887</td>\n",
              "      <td>-99.086624</td>\n",
              "      <td>1.0</td>\n",
              "      <td>0</td>\n",
              "      <td>NaN</td>\n",
              "      <td>NaN</td>\n",
              "      <td>1</td>\n",
              "      <td>1</td>\n",
              "      <td>1</td>\n",
              "      <td>0.0</td>\n",
              "      <td>NaN</td>\n",
              "      <td>NaN</td>\n",
              "      <td>0.0</td>\n",
              "      <td>1</td>\n",
              "      <td>0</td>\n",
              "      <td>6</td>\n",
              "      <td>Hostage Taking (Kidnapping)</td>\n",
              "      <td>NaN</td>\n",
              "      <td>NaN</td>\n",
              "      <td>NaN</td>\n",
              "      <td>NaN</td>\n",
              "      <td>7</td>\n",
              "      <td>Government (Diplomatic)</td>\n",
              "      <td>45.0</td>\n",
              "      <td>Diplomatic Personnel (outside of embassy, cons...</td>\n",
              "      <td>Belgian Ambassador Daughter</td>\n",
              "      <td>Nadine Chaval, daughter</td>\n",
              "      <td>...</td>\n",
              "      <td>NaN</td>\n",
              "      <td>NaN</td>\n",
              "      <td>NaN</td>\n",
              "      <td>0.0</td>\n",
              "      <td>NaN</td>\n",
              "      <td>NaN</td>\n",
              "      <td>0.0</td>\n",
              "      <td>NaN</td>\n",
              "      <td>NaN</td>\n",
              "      <td>0</td>\n",
              "      <td>NaN</td>\n",
              "      <td>NaN</td>\n",
              "      <td>NaN</td>\n",
              "      <td>NaN</td>\n",
              "      <td>1.0</td>\n",
              "      <td>1.0</td>\n",
              "      <td>0.0</td>\n",
              "      <td>NaN</td>\n",
              "      <td>NaN</td>\n",
              "      <td>NaN</td>\n",
              "      <td>Mexico</td>\n",
              "      <td>1.0</td>\n",
              "      <td>800000.0</td>\n",
              "      <td>NaN</td>\n",
              "      <td>NaN</td>\n",
              "      <td>NaN</td>\n",
              "      <td>NaN</td>\n",
              "      <td>NaN</td>\n",
              "      <td>NaN</td>\n",
              "      <td>NaN</td>\n",
              "      <td>NaN</td>\n",
              "      <td>NaN</td>\n",
              "      <td>NaN</td>\n",
              "      <td>NaN</td>\n",
              "      <td>PGIS</td>\n",
              "      <td>0</td>\n",
              "      <td>1</td>\n",
              "      <td>1</td>\n",
              "      <td>1</td>\n",
              "      <td>NaN</td>\n",
              "    </tr>\n",
              "    <tr>\n",
              "      <th>2</th>\n",
              "      <td>197001000001</td>\n",
              "      <td>1970</td>\n",
              "      <td>1</td>\n",
              "      <td>0</td>\n",
              "      <td>NaN</td>\n",
              "      <td>0</td>\n",
              "      <td>NaN</td>\n",
              "      <td>160</td>\n",
              "      <td>Philippines</td>\n",
              "      <td>5</td>\n",
              "      <td>Southeast Asia</td>\n",
              "      <td>Tarlac</td>\n",
              "      <td>Unknown</td>\n",
              "      <td>15.478598</td>\n",
              "      <td>120.599741</td>\n",
              "      <td>4.0</td>\n",
              "      <td>0</td>\n",
              "      <td>NaN</td>\n",
              "      <td>NaN</td>\n",
              "      <td>1</td>\n",
              "      <td>1</td>\n",
              "      <td>1</td>\n",
              "      <td>0.0</td>\n",
              "      <td>NaN</td>\n",
              "      <td>NaN</td>\n",
              "      <td>0.0</td>\n",
              "      <td>1</td>\n",
              "      <td>0</td>\n",
              "      <td>1</td>\n",
              "      <td>Assassination</td>\n",
              "      <td>NaN</td>\n",
              "      <td>NaN</td>\n",
              "      <td>NaN</td>\n",
              "      <td>NaN</td>\n",
              "      <td>10</td>\n",
              "      <td>Journalists &amp; Media</td>\n",
              "      <td>54.0</td>\n",
              "      <td>Radio Journalist/Staff/Facility</td>\n",
              "      <td>Voice of America</td>\n",
              "      <td>Employee</td>\n",
              "      <td>...</td>\n",
              "      <td>NaN</td>\n",
              "      <td>NaN</td>\n",
              "      <td>NaN</td>\n",
              "      <td>1.0</td>\n",
              "      <td>NaN</td>\n",
              "      <td>NaN</td>\n",
              "      <td>0.0</td>\n",
              "      <td>NaN</td>\n",
              "      <td>NaN</td>\n",
              "      <td>0</td>\n",
              "      <td>NaN</td>\n",
              "      <td>NaN</td>\n",
              "      <td>NaN</td>\n",
              "      <td>NaN</td>\n",
              "      <td>0.0</td>\n",
              "      <td>NaN</td>\n",
              "      <td>NaN</td>\n",
              "      <td>NaN</td>\n",
              "      <td>NaN</td>\n",
              "      <td>NaN</td>\n",
              "      <td>NaN</td>\n",
              "      <td>0.0</td>\n",
              "      <td>NaN</td>\n",
              "      <td>NaN</td>\n",
              "      <td>NaN</td>\n",
              "      <td>NaN</td>\n",
              "      <td>NaN</td>\n",
              "      <td>NaN</td>\n",
              "      <td>NaN</td>\n",
              "      <td>NaN</td>\n",
              "      <td>NaN</td>\n",
              "      <td>NaN</td>\n",
              "      <td>NaN</td>\n",
              "      <td>NaN</td>\n",
              "      <td>PGIS</td>\n",
              "      <td>-9</td>\n",
              "      <td>-9</td>\n",
              "      <td>1</td>\n",
              "      <td>1</td>\n",
              "      <td>NaN</td>\n",
              "    </tr>\n",
              "    <tr>\n",
              "      <th>3</th>\n",
              "      <td>197001000002</td>\n",
              "      <td>1970</td>\n",
              "      <td>1</td>\n",
              "      <td>0</td>\n",
              "      <td>NaN</td>\n",
              "      <td>0</td>\n",
              "      <td>NaN</td>\n",
              "      <td>78</td>\n",
              "      <td>Greece</td>\n",
              "      <td>8</td>\n",
              "      <td>Western Europe</td>\n",
              "      <td>Attica</td>\n",
              "      <td>Athens</td>\n",
              "      <td>37.997490</td>\n",
              "      <td>23.762728</td>\n",
              "      <td>1.0</td>\n",
              "      <td>0</td>\n",
              "      <td>NaN</td>\n",
              "      <td>NaN</td>\n",
              "      <td>1</td>\n",
              "      <td>1</td>\n",
              "      <td>1</td>\n",
              "      <td>0.0</td>\n",
              "      <td>NaN</td>\n",
              "      <td>NaN</td>\n",
              "      <td>0.0</td>\n",
              "      <td>1</td>\n",
              "      <td>0</td>\n",
              "      <td>3</td>\n",
              "      <td>Bombing/Explosion</td>\n",
              "      <td>NaN</td>\n",
              "      <td>NaN</td>\n",
              "      <td>NaN</td>\n",
              "      <td>NaN</td>\n",
              "      <td>7</td>\n",
              "      <td>Government (Diplomatic)</td>\n",
              "      <td>46.0</td>\n",
              "      <td>Embassy/Consulate</td>\n",
              "      <td>NaN</td>\n",
              "      <td>U.S. Embassy</td>\n",
              "      <td>...</td>\n",
              "      <td>NaN</td>\n",
              "      <td>NaN</td>\n",
              "      <td>Explosive</td>\n",
              "      <td>NaN</td>\n",
              "      <td>NaN</td>\n",
              "      <td>NaN</td>\n",
              "      <td>NaN</td>\n",
              "      <td>NaN</td>\n",
              "      <td>NaN</td>\n",
              "      <td>1</td>\n",
              "      <td>NaN</td>\n",
              "      <td>NaN</td>\n",
              "      <td>NaN</td>\n",
              "      <td>NaN</td>\n",
              "      <td>0.0</td>\n",
              "      <td>NaN</td>\n",
              "      <td>NaN</td>\n",
              "      <td>NaN</td>\n",
              "      <td>NaN</td>\n",
              "      <td>NaN</td>\n",
              "      <td>NaN</td>\n",
              "      <td>0.0</td>\n",
              "      <td>NaN</td>\n",
              "      <td>NaN</td>\n",
              "      <td>NaN</td>\n",
              "      <td>NaN</td>\n",
              "      <td>NaN</td>\n",
              "      <td>NaN</td>\n",
              "      <td>NaN</td>\n",
              "      <td>NaN</td>\n",
              "      <td>NaN</td>\n",
              "      <td>NaN</td>\n",
              "      <td>NaN</td>\n",
              "      <td>NaN</td>\n",
              "      <td>PGIS</td>\n",
              "      <td>-9</td>\n",
              "      <td>-9</td>\n",
              "      <td>1</td>\n",
              "      <td>1</td>\n",
              "      <td>NaN</td>\n",
              "    </tr>\n",
              "    <tr>\n",
              "      <th>4</th>\n",
              "      <td>197001000003</td>\n",
              "      <td>1970</td>\n",
              "      <td>1</td>\n",
              "      <td>0</td>\n",
              "      <td>NaN</td>\n",
              "      <td>0</td>\n",
              "      <td>NaN</td>\n",
              "      <td>101</td>\n",
              "      <td>Japan</td>\n",
              "      <td>4</td>\n",
              "      <td>East Asia</td>\n",
              "      <td>Fukouka</td>\n",
              "      <td>Fukouka</td>\n",
              "      <td>33.580412</td>\n",
              "      <td>130.396361</td>\n",
              "      <td>1.0</td>\n",
              "      <td>0</td>\n",
              "      <td>NaN</td>\n",
              "      <td>NaN</td>\n",
              "      <td>1</td>\n",
              "      <td>1</td>\n",
              "      <td>1</td>\n",
              "      <td>-9.0</td>\n",
              "      <td>NaN</td>\n",
              "      <td>NaN</td>\n",
              "      <td>0.0</td>\n",
              "      <td>1</td>\n",
              "      <td>0</td>\n",
              "      <td>7</td>\n",
              "      <td>Facility/Infrastructure Attack</td>\n",
              "      <td>NaN</td>\n",
              "      <td>NaN</td>\n",
              "      <td>NaN</td>\n",
              "      <td>NaN</td>\n",
              "      <td>7</td>\n",
              "      <td>Government (Diplomatic)</td>\n",
              "      <td>46.0</td>\n",
              "      <td>Embassy/Consulate</td>\n",
              "      <td>NaN</td>\n",
              "      <td>U.S. Consulate</td>\n",
              "      <td>...</td>\n",
              "      <td>NaN</td>\n",
              "      <td>NaN</td>\n",
              "      <td>Incendiary</td>\n",
              "      <td>NaN</td>\n",
              "      <td>NaN</td>\n",
              "      <td>NaN</td>\n",
              "      <td>NaN</td>\n",
              "      <td>NaN</td>\n",
              "      <td>NaN</td>\n",
              "      <td>1</td>\n",
              "      <td>NaN</td>\n",
              "      <td>NaN</td>\n",
              "      <td>NaN</td>\n",
              "      <td>NaN</td>\n",
              "      <td>0.0</td>\n",
              "      <td>NaN</td>\n",
              "      <td>NaN</td>\n",
              "      <td>NaN</td>\n",
              "      <td>NaN</td>\n",
              "      <td>NaN</td>\n",
              "      <td>NaN</td>\n",
              "      <td>0.0</td>\n",
              "      <td>NaN</td>\n",
              "      <td>NaN</td>\n",
              "      <td>NaN</td>\n",
              "      <td>NaN</td>\n",
              "      <td>NaN</td>\n",
              "      <td>NaN</td>\n",
              "      <td>NaN</td>\n",
              "      <td>NaN</td>\n",
              "      <td>NaN</td>\n",
              "      <td>NaN</td>\n",
              "      <td>NaN</td>\n",
              "      <td>NaN</td>\n",
              "      <td>PGIS</td>\n",
              "      <td>-9</td>\n",
              "      <td>-9</td>\n",
              "      <td>1</td>\n",
              "      <td>1</td>\n",
              "      <td>NaN</td>\n",
              "    </tr>\n",
              "  </tbody>\n",
              "</table>\n",
              "<p>5 rows × 135 columns</p>\n",
              "</div>"
            ],
            "text/plain": [
              "        eventid  iyear  imonth  iday  ... INT_IDEO  INT_MISC INT_ANY  related\n",
              "0  197000000001   1970       7     2  ...        0         0       0      NaN\n",
              "1  197000000002   1970       0     0  ...        1         1       1      NaN\n",
              "2  197001000001   1970       1     0  ...       -9         1       1      NaN\n",
              "3  197001000002   1970       1     0  ...       -9         1       1      NaN\n",
              "4  197001000003   1970       1     0  ...       -9         1       1      NaN\n",
              "\n",
              "[5 rows x 135 columns]"
            ]
          },
          "metadata": {
            "tags": []
          },
          "execution_count": 4
        }
      ]
    },
    {
      "cell_type": "code",
      "metadata": {
        "colab": {
          "base_uri": "https://localhost:8080/"
        },
        "id": "0vyXJG5FQXPw",
        "outputId": "b3957ecd-6dc5-4dce-9eca-1e19a9bfc7a6"
      },
      "source": [
        "dfs.columns    #COLUMN PRESENT IN DATAFRAME"
      ],
      "execution_count": null,
      "outputs": [
        {
          "output_type": "execute_result",
          "data": {
            "text/plain": [
              "Index(['eventid', 'iyear', 'imonth', 'iday', 'approxdate', 'extended',\n",
              "       'resolution', 'country', 'country_txt', 'region',\n",
              "       ...\n",
              "       'addnotes', 'scite1', 'scite2', 'scite3', 'dbsource', 'INT_LOG',\n",
              "       'INT_IDEO', 'INT_MISC', 'INT_ANY', 'related'],\n",
              "      dtype='object', length=135)"
            ]
          },
          "metadata": {
            "tags": []
          },
          "execution_count": 5
        }
      ]
    },
    {
      "cell_type": "code",
      "metadata": {
        "colab": {
          "base_uri": "https://localhost:8080/"
        },
        "id": "lcaxGgZtQqaa",
        "outputId": "0bdef74a-0325-4011-9910-02e45db811c0"
      },
      "source": [
        "dfs.shape"
      ],
      "execution_count": null,
      "outputs": [
        {
          "output_type": "execute_result",
          "data": {
            "text/plain": [
              "(181691, 135)"
            ]
          },
          "metadata": {
            "tags": []
          },
          "execution_count": 6
        }
      ]
    },
    {
      "cell_type": "code",
      "metadata": {
        "colab": {
          "base_uri": "https://localhost:8080/",
          "height": 372
        },
        "id": "NdQV6ubeR9d3",
        "outputId": "a7a1b9f4-4738-43cd-fcbe-e5c52a8adbea"
      },
      "source": [
        "#HERE,I RENAME THE COLUMN SO THAT IT WILL LOOK LITTLE BIT EASY FOR GETTING THE DATA\n",
        "newdfs=dfs.rename(columns={'iyear':'Year','imonth':'Month','iday':'Day','country_txt':'Country','provstate':'State','region_txt':'Region','city':'City','latitude':'Latitude','longitude':'Longitude','attacktype1_txt':'Attack','nkill':'Kill','nwound':'Wound','target1':'Targetn','summary':'Summary','gname':'Group','targtype1':'Targetv','targtype1_txt':'Target_type','weaptype1_txt':'Weapon_type','motive':'Motive'})\n",
        "newdfs.head()"
      ],
      "execution_count": null,
      "outputs": [
        {
          "output_type": "execute_result",
          "data": {
            "text/html": [
              "<div>\n",
              "<style scoped>\n",
              "    .dataframe tbody tr th:only-of-type {\n",
              "        vertical-align: middle;\n",
              "    }\n",
              "\n",
              "    .dataframe tbody tr th {\n",
              "        vertical-align: top;\n",
              "    }\n",
              "\n",
              "    .dataframe thead th {\n",
              "        text-align: right;\n",
              "    }\n",
              "</style>\n",
              "<table border=\"1\" class=\"dataframe\">\n",
              "  <thead>\n",
              "    <tr style=\"text-align: right;\">\n",
              "      <th></th>\n",
              "      <th>eventid</th>\n",
              "      <th>Year</th>\n",
              "      <th>Month</th>\n",
              "      <th>Day</th>\n",
              "      <th>approxdate</th>\n",
              "      <th>extended</th>\n",
              "      <th>resolution</th>\n",
              "      <th>country</th>\n",
              "      <th>Country</th>\n",
              "      <th>region</th>\n",
              "      <th>Region</th>\n",
              "      <th>State</th>\n",
              "      <th>City</th>\n",
              "      <th>Latitude</th>\n",
              "      <th>Longitude</th>\n",
              "      <th>specificity</th>\n",
              "      <th>vicinity</th>\n",
              "      <th>location</th>\n",
              "      <th>Summary</th>\n",
              "      <th>crit1</th>\n",
              "      <th>crit2</th>\n",
              "      <th>crit3</th>\n",
              "      <th>doubtterr</th>\n",
              "      <th>alternative</th>\n",
              "      <th>alternative_txt</th>\n",
              "      <th>multiple</th>\n",
              "      <th>success</th>\n",
              "      <th>suicide</th>\n",
              "      <th>attacktype1</th>\n",
              "      <th>Attack</th>\n",
              "      <th>attacktype2</th>\n",
              "      <th>attacktype2_txt</th>\n",
              "      <th>attacktype3</th>\n",
              "      <th>attacktype3_txt</th>\n",
              "      <th>Targetv</th>\n",
              "      <th>Target_type</th>\n",
              "      <th>targsubtype1</th>\n",
              "      <th>targsubtype1_txt</th>\n",
              "      <th>corp1</th>\n",
              "      <th>Targetn</th>\n",
              "      <th>...</th>\n",
              "      <th>weapsubtype4</th>\n",
              "      <th>weapsubtype4_txt</th>\n",
              "      <th>weapdetail</th>\n",
              "      <th>Kill</th>\n",
              "      <th>nkillus</th>\n",
              "      <th>nkillter</th>\n",
              "      <th>Wound</th>\n",
              "      <th>nwoundus</th>\n",
              "      <th>nwoundte</th>\n",
              "      <th>property</th>\n",
              "      <th>propextent</th>\n",
              "      <th>propextent_txt</th>\n",
              "      <th>propvalue</th>\n",
              "      <th>propcomment</th>\n",
              "      <th>ishostkid</th>\n",
              "      <th>nhostkid</th>\n",
              "      <th>nhostkidus</th>\n",
              "      <th>nhours</th>\n",
              "      <th>ndays</th>\n",
              "      <th>divert</th>\n",
              "      <th>kidhijcountry</th>\n",
              "      <th>ransom</th>\n",
              "      <th>ransomamt</th>\n",
              "      <th>ransomamtus</th>\n",
              "      <th>ransompaid</th>\n",
              "      <th>ransompaidus</th>\n",
              "      <th>ransomnote</th>\n",
              "      <th>hostkidoutcome</th>\n",
              "      <th>hostkidoutcome_txt</th>\n",
              "      <th>nreleased</th>\n",
              "      <th>addnotes</th>\n",
              "      <th>scite1</th>\n",
              "      <th>scite2</th>\n",
              "      <th>scite3</th>\n",
              "      <th>dbsource</th>\n",
              "      <th>INT_LOG</th>\n",
              "      <th>INT_IDEO</th>\n",
              "      <th>INT_MISC</th>\n",
              "      <th>INT_ANY</th>\n",
              "      <th>related</th>\n",
              "    </tr>\n",
              "  </thead>\n",
              "  <tbody>\n",
              "    <tr>\n",
              "      <th>0</th>\n",
              "      <td>197000000001</td>\n",
              "      <td>1970</td>\n",
              "      <td>7</td>\n",
              "      <td>2</td>\n",
              "      <td>NaN</td>\n",
              "      <td>0</td>\n",
              "      <td>NaN</td>\n",
              "      <td>58</td>\n",
              "      <td>Dominican Republic</td>\n",
              "      <td>2</td>\n",
              "      <td>Central America &amp; Caribbean</td>\n",
              "      <td>NaN</td>\n",
              "      <td>Santo Domingo</td>\n",
              "      <td>18.456792</td>\n",
              "      <td>-69.951164</td>\n",
              "      <td>1.0</td>\n",
              "      <td>0</td>\n",
              "      <td>NaN</td>\n",
              "      <td>NaN</td>\n",
              "      <td>1</td>\n",
              "      <td>1</td>\n",
              "      <td>1</td>\n",
              "      <td>0.0</td>\n",
              "      <td>NaN</td>\n",
              "      <td>NaN</td>\n",
              "      <td>0.0</td>\n",
              "      <td>1</td>\n",
              "      <td>0</td>\n",
              "      <td>1</td>\n",
              "      <td>Assassination</td>\n",
              "      <td>NaN</td>\n",
              "      <td>NaN</td>\n",
              "      <td>NaN</td>\n",
              "      <td>NaN</td>\n",
              "      <td>14</td>\n",
              "      <td>Private Citizens &amp; Property</td>\n",
              "      <td>68.0</td>\n",
              "      <td>Named Civilian</td>\n",
              "      <td>NaN</td>\n",
              "      <td>Julio Guzman</td>\n",
              "      <td>...</td>\n",
              "      <td>NaN</td>\n",
              "      <td>NaN</td>\n",
              "      <td>NaN</td>\n",
              "      <td>1.0</td>\n",
              "      <td>NaN</td>\n",
              "      <td>NaN</td>\n",
              "      <td>0.0</td>\n",
              "      <td>NaN</td>\n",
              "      <td>NaN</td>\n",
              "      <td>0</td>\n",
              "      <td>NaN</td>\n",
              "      <td>NaN</td>\n",
              "      <td>NaN</td>\n",
              "      <td>NaN</td>\n",
              "      <td>0.0</td>\n",
              "      <td>NaN</td>\n",
              "      <td>NaN</td>\n",
              "      <td>NaN</td>\n",
              "      <td>NaN</td>\n",
              "      <td>NaN</td>\n",
              "      <td>NaN</td>\n",
              "      <td>0.0</td>\n",
              "      <td>NaN</td>\n",
              "      <td>NaN</td>\n",
              "      <td>NaN</td>\n",
              "      <td>NaN</td>\n",
              "      <td>NaN</td>\n",
              "      <td>NaN</td>\n",
              "      <td>NaN</td>\n",
              "      <td>NaN</td>\n",
              "      <td>NaN</td>\n",
              "      <td>NaN</td>\n",
              "      <td>NaN</td>\n",
              "      <td>NaN</td>\n",
              "      <td>PGIS</td>\n",
              "      <td>0</td>\n",
              "      <td>0</td>\n",
              "      <td>0</td>\n",
              "      <td>0</td>\n",
              "      <td>NaN</td>\n",
              "    </tr>\n",
              "    <tr>\n",
              "      <th>1</th>\n",
              "      <td>197000000002</td>\n",
              "      <td>1970</td>\n",
              "      <td>0</td>\n",
              "      <td>0</td>\n",
              "      <td>NaN</td>\n",
              "      <td>0</td>\n",
              "      <td>NaN</td>\n",
              "      <td>130</td>\n",
              "      <td>Mexico</td>\n",
              "      <td>1</td>\n",
              "      <td>North America</td>\n",
              "      <td>Federal</td>\n",
              "      <td>Mexico city</td>\n",
              "      <td>19.371887</td>\n",
              "      <td>-99.086624</td>\n",
              "      <td>1.0</td>\n",
              "      <td>0</td>\n",
              "      <td>NaN</td>\n",
              "      <td>NaN</td>\n",
              "      <td>1</td>\n",
              "      <td>1</td>\n",
              "      <td>1</td>\n",
              "      <td>0.0</td>\n",
              "      <td>NaN</td>\n",
              "      <td>NaN</td>\n",
              "      <td>0.0</td>\n",
              "      <td>1</td>\n",
              "      <td>0</td>\n",
              "      <td>6</td>\n",
              "      <td>Hostage Taking (Kidnapping)</td>\n",
              "      <td>NaN</td>\n",
              "      <td>NaN</td>\n",
              "      <td>NaN</td>\n",
              "      <td>NaN</td>\n",
              "      <td>7</td>\n",
              "      <td>Government (Diplomatic)</td>\n",
              "      <td>45.0</td>\n",
              "      <td>Diplomatic Personnel (outside of embassy, cons...</td>\n",
              "      <td>Belgian Ambassador Daughter</td>\n",
              "      <td>Nadine Chaval, daughter</td>\n",
              "      <td>...</td>\n",
              "      <td>NaN</td>\n",
              "      <td>NaN</td>\n",
              "      <td>NaN</td>\n",
              "      <td>0.0</td>\n",
              "      <td>NaN</td>\n",
              "      <td>NaN</td>\n",
              "      <td>0.0</td>\n",
              "      <td>NaN</td>\n",
              "      <td>NaN</td>\n",
              "      <td>0</td>\n",
              "      <td>NaN</td>\n",
              "      <td>NaN</td>\n",
              "      <td>NaN</td>\n",
              "      <td>NaN</td>\n",
              "      <td>1.0</td>\n",
              "      <td>1.0</td>\n",
              "      <td>0.0</td>\n",
              "      <td>NaN</td>\n",
              "      <td>NaN</td>\n",
              "      <td>NaN</td>\n",
              "      <td>Mexico</td>\n",
              "      <td>1.0</td>\n",
              "      <td>800000.0</td>\n",
              "      <td>NaN</td>\n",
              "      <td>NaN</td>\n",
              "      <td>NaN</td>\n",
              "      <td>NaN</td>\n",
              "      <td>NaN</td>\n",
              "      <td>NaN</td>\n",
              "      <td>NaN</td>\n",
              "      <td>NaN</td>\n",
              "      <td>NaN</td>\n",
              "      <td>NaN</td>\n",
              "      <td>NaN</td>\n",
              "      <td>PGIS</td>\n",
              "      <td>0</td>\n",
              "      <td>1</td>\n",
              "      <td>1</td>\n",
              "      <td>1</td>\n",
              "      <td>NaN</td>\n",
              "    </tr>\n",
              "    <tr>\n",
              "      <th>2</th>\n",
              "      <td>197001000001</td>\n",
              "      <td>1970</td>\n",
              "      <td>1</td>\n",
              "      <td>0</td>\n",
              "      <td>NaN</td>\n",
              "      <td>0</td>\n",
              "      <td>NaN</td>\n",
              "      <td>160</td>\n",
              "      <td>Philippines</td>\n",
              "      <td>5</td>\n",
              "      <td>Southeast Asia</td>\n",
              "      <td>Tarlac</td>\n",
              "      <td>Unknown</td>\n",
              "      <td>15.478598</td>\n",
              "      <td>120.599741</td>\n",
              "      <td>4.0</td>\n",
              "      <td>0</td>\n",
              "      <td>NaN</td>\n",
              "      <td>NaN</td>\n",
              "      <td>1</td>\n",
              "      <td>1</td>\n",
              "      <td>1</td>\n",
              "      <td>0.0</td>\n",
              "      <td>NaN</td>\n",
              "      <td>NaN</td>\n",
              "      <td>0.0</td>\n",
              "      <td>1</td>\n",
              "      <td>0</td>\n",
              "      <td>1</td>\n",
              "      <td>Assassination</td>\n",
              "      <td>NaN</td>\n",
              "      <td>NaN</td>\n",
              "      <td>NaN</td>\n",
              "      <td>NaN</td>\n",
              "      <td>10</td>\n",
              "      <td>Journalists &amp; Media</td>\n",
              "      <td>54.0</td>\n",
              "      <td>Radio Journalist/Staff/Facility</td>\n",
              "      <td>Voice of America</td>\n",
              "      <td>Employee</td>\n",
              "      <td>...</td>\n",
              "      <td>NaN</td>\n",
              "      <td>NaN</td>\n",
              "      <td>NaN</td>\n",
              "      <td>1.0</td>\n",
              "      <td>NaN</td>\n",
              "      <td>NaN</td>\n",
              "      <td>0.0</td>\n",
              "      <td>NaN</td>\n",
              "      <td>NaN</td>\n",
              "      <td>0</td>\n",
              "      <td>NaN</td>\n",
              "      <td>NaN</td>\n",
              "      <td>NaN</td>\n",
              "      <td>NaN</td>\n",
              "      <td>0.0</td>\n",
              "      <td>NaN</td>\n",
              "      <td>NaN</td>\n",
              "      <td>NaN</td>\n",
              "      <td>NaN</td>\n",
              "      <td>NaN</td>\n",
              "      <td>NaN</td>\n",
              "      <td>0.0</td>\n",
              "      <td>NaN</td>\n",
              "      <td>NaN</td>\n",
              "      <td>NaN</td>\n",
              "      <td>NaN</td>\n",
              "      <td>NaN</td>\n",
              "      <td>NaN</td>\n",
              "      <td>NaN</td>\n",
              "      <td>NaN</td>\n",
              "      <td>NaN</td>\n",
              "      <td>NaN</td>\n",
              "      <td>NaN</td>\n",
              "      <td>NaN</td>\n",
              "      <td>PGIS</td>\n",
              "      <td>-9</td>\n",
              "      <td>-9</td>\n",
              "      <td>1</td>\n",
              "      <td>1</td>\n",
              "      <td>NaN</td>\n",
              "    </tr>\n",
              "    <tr>\n",
              "      <th>3</th>\n",
              "      <td>197001000002</td>\n",
              "      <td>1970</td>\n",
              "      <td>1</td>\n",
              "      <td>0</td>\n",
              "      <td>NaN</td>\n",
              "      <td>0</td>\n",
              "      <td>NaN</td>\n",
              "      <td>78</td>\n",
              "      <td>Greece</td>\n",
              "      <td>8</td>\n",
              "      <td>Western Europe</td>\n",
              "      <td>Attica</td>\n",
              "      <td>Athens</td>\n",
              "      <td>37.997490</td>\n",
              "      <td>23.762728</td>\n",
              "      <td>1.0</td>\n",
              "      <td>0</td>\n",
              "      <td>NaN</td>\n",
              "      <td>NaN</td>\n",
              "      <td>1</td>\n",
              "      <td>1</td>\n",
              "      <td>1</td>\n",
              "      <td>0.0</td>\n",
              "      <td>NaN</td>\n",
              "      <td>NaN</td>\n",
              "      <td>0.0</td>\n",
              "      <td>1</td>\n",
              "      <td>0</td>\n",
              "      <td>3</td>\n",
              "      <td>Bombing/Explosion</td>\n",
              "      <td>NaN</td>\n",
              "      <td>NaN</td>\n",
              "      <td>NaN</td>\n",
              "      <td>NaN</td>\n",
              "      <td>7</td>\n",
              "      <td>Government (Diplomatic)</td>\n",
              "      <td>46.0</td>\n",
              "      <td>Embassy/Consulate</td>\n",
              "      <td>NaN</td>\n",
              "      <td>U.S. Embassy</td>\n",
              "      <td>...</td>\n",
              "      <td>NaN</td>\n",
              "      <td>NaN</td>\n",
              "      <td>Explosive</td>\n",
              "      <td>NaN</td>\n",
              "      <td>NaN</td>\n",
              "      <td>NaN</td>\n",
              "      <td>NaN</td>\n",
              "      <td>NaN</td>\n",
              "      <td>NaN</td>\n",
              "      <td>1</td>\n",
              "      <td>NaN</td>\n",
              "      <td>NaN</td>\n",
              "      <td>NaN</td>\n",
              "      <td>NaN</td>\n",
              "      <td>0.0</td>\n",
              "      <td>NaN</td>\n",
              "      <td>NaN</td>\n",
              "      <td>NaN</td>\n",
              "      <td>NaN</td>\n",
              "      <td>NaN</td>\n",
              "      <td>NaN</td>\n",
              "      <td>0.0</td>\n",
              "      <td>NaN</td>\n",
              "      <td>NaN</td>\n",
              "      <td>NaN</td>\n",
              "      <td>NaN</td>\n",
              "      <td>NaN</td>\n",
              "      <td>NaN</td>\n",
              "      <td>NaN</td>\n",
              "      <td>NaN</td>\n",
              "      <td>NaN</td>\n",
              "      <td>NaN</td>\n",
              "      <td>NaN</td>\n",
              "      <td>NaN</td>\n",
              "      <td>PGIS</td>\n",
              "      <td>-9</td>\n",
              "      <td>-9</td>\n",
              "      <td>1</td>\n",
              "      <td>1</td>\n",
              "      <td>NaN</td>\n",
              "    </tr>\n",
              "    <tr>\n",
              "      <th>4</th>\n",
              "      <td>197001000003</td>\n",
              "      <td>1970</td>\n",
              "      <td>1</td>\n",
              "      <td>0</td>\n",
              "      <td>NaN</td>\n",
              "      <td>0</td>\n",
              "      <td>NaN</td>\n",
              "      <td>101</td>\n",
              "      <td>Japan</td>\n",
              "      <td>4</td>\n",
              "      <td>East Asia</td>\n",
              "      <td>Fukouka</td>\n",
              "      <td>Fukouka</td>\n",
              "      <td>33.580412</td>\n",
              "      <td>130.396361</td>\n",
              "      <td>1.0</td>\n",
              "      <td>0</td>\n",
              "      <td>NaN</td>\n",
              "      <td>NaN</td>\n",
              "      <td>1</td>\n",
              "      <td>1</td>\n",
              "      <td>1</td>\n",
              "      <td>-9.0</td>\n",
              "      <td>NaN</td>\n",
              "      <td>NaN</td>\n",
              "      <td>0.0</td>\n",
              "      <td>1</td>\n",
              "      <td>0</td>\n",
              "      <td>7</td>\n",
              "      <td>Facility/Infrastructure Attack</td>\n",
              "      <td>NaN</td>\n",
              "      <td>NaN</td>\n",
              "      <td>NaN</td>\n",
              "      <td>NaN</td>\n",
              "      <td>7</td>\n",
              "      <td>Government (Diplomatic)</td>\n",
              "      <td>46.0</td>\n",
              "      <td>Embassy/Consulate</td>\n",
              "      <td>NaN</td>\n",
              "      <td>U.S. Consulate</td>\n",
              "      <td>...</td>\n",
              "      <td>NaN</td>\n",
              "      <td>NaN</td>\n",
              "      <td>Incendiary</td>\n",
              "      <td>NaN</td>\n",
              "      <td>NaN</td>\n",
              "      <td>NaN</td>\n",
              "      <td>NaN</td>\n",
              "      <td>NaN</td>\n",
              "      <td>NaN</td>\n",
              "      <td>1</td>\n",
              "      <td>NaN</td>\n",
              "      <td>NaN</td>\n",
              "      <td>NaN</td>\n",
              "      <td>NaN</td>\n",
              "      <td>0.0</td>\n",
              "      <td>NaN</td>\n",
              "      <td>NaN</td>\n",
              "      <td>NaN</td>\n",
              "      <td>NaN</td>\n",
              "      <td>NaN</td>\n",
              "      <td>NaN</td>\n",
              "      <td>0.0</td>\n",
              "      <td>NaN</td>\n",
              "      <td>NaN</td>\n",
              "      <td>NaN</td>\n",
              "      <td>NaN</td>\n",
              "      <td>NaN</td>\n",
              "      <td>NaN</td>\n",
              "      <td>NaN</td>\n",
              "      <td>NaN</td>\n",
              "      <td>NaN</td>\n",
              "      <td>NaN</td>\n",
              "      <td>NaN</td>\n",
              "      <td>NaN</td>\n",
              "      <td>PGIS</td>\n",
              "      <td>-9</td>\n",
              "      <td>-9</td>\n",
              "      <td>1</td>\n",
              "      <td>1</td>\n",
              "      <td>NaN</td>\n",
              "    </tr>\n",
              "  </tbody>\n",
              "</table>\n",
              "<p>5 rows × 135 columns</p>\n",
              "</div>"
            ],
            "text/plain": [
              "        eventid  Year  Month  Day  ... INT_IDEO  INT_MISC INT_ANY  related\n",
              "0  197000000001  1970      7    2  ...        0         0       0      NaN\n",
              "1  197000000002  1970      0    0  ...        1         1       1      NaN\n",
              "2  197001000001  1970      1    0  ...       -9         1       1      NaN\n",
              "3  197001000002  1970      1    0  ...       -9         1       1      NaN\n",
              "4  197001000003  1970      1    0  ...       -9         1       1      NaN\n",
              "\n",
              "[5 rows x 135 columns]"
            ]
          },
          "metadata": {
            "tags": []
          },
          "execution_count": 7
        }
      ]
    },
    {
      "cell_type": "code",
      "metadata": {
        "colab": {
          "base_uri": "https://localhost:8080/"
        },
        "id": "pFKBgZuVan8v",
        "outputId": "45915fcb-14bd-4199-ae90-8493638edd37"
      },
      "source": [
        "newdfs.columns"
      ],
      "execution_count": null,
      "outputs": [
        {
          "output_type": "execute_result",
          "data": {
            "text/plain": [
              "Index(['eventid', 'Year', 'Month', 'Day', 'approxdate', 'extended',\n",
              "       'resolution', 'country', 'Country', 'region',\n",
              "       ...\n",
              "       'addnotes', 'scite1', 'scite2', 'scite3', 'dbsource', 'INT_LOG',\n",
              "       'INT_IDEO', 'INT_MISC', 'INT_ANY', 'related'],\n",
              "      dtype='object', length=135)"
            ]
          },
          "metadata": {
            "tags": []
          },
          "execution_count": 8
        }
      ]
    },
    {
      "cell_type": "markdown",
      "metadata": {
        "id": "97u361fIY0uk"
      },
      "source": [
        " Data cleaning from real dataframe"
      ]
    },
    {
      "cell_type": "code",
      "metadata": {
        "colab": {
          "base_uri": "https://localhost:8080/",
          "height": 360
        },
        "id": "wtRl4LAbYEON",
        "outputId": "25abcd42-c1a5-4bf0-c41f-48b85bdd387a"
      },
      "source": [
        "#we create new data frame in which we extract only required column data\n",
        "df=newdfs[['Year','Month','Day','Country','State','Region','City','Latitude','Longitude','Attack','Kill','Wound','Targetn','Summary','Group','Targetv','Target_type','Weapon_type','Motive']]\n",
        "\n",
        "df.head(5)\n"
      ],
      "execution_count": null,
      "outputs": [
        {
          "output_type": "execute_result",
          "data": {
            "text/html": [
              "<div>\n",
              "<style scoped>\n",
              "    .dataframe tbody tr th:only-of-type {\n",
              "        vertical-align: middle;\n",
              "    }\n",
              "\n",
              "    .dataframe tbody tr th {\n",
              "        vertical-align: top;\n",
              "    }\n",
              "\n",
              "    .dataframe thead th {\n",
              "        text-align: right;\n",
              "    }\n",
              "</style>\n",
              "<table border=\"1\" class=\"dataframe\">\n",
              "  <thead>\n",
              "    <tr style=\"text-align: right;\">\n",
              "      <th></th>\n",
              "      <th>Year</th>\n",
              "      <th>Month</th>\n",
              "      <th>Day</th>\n",
              "      <th>Country</th>\n",
              "      <th>State</th>\n",
              "      <th>Region</th>\n",
              "      <th>City</th>\n",
              "      <th>Latitude</th>\n",
              "      <th>Longitude</th>\n",
              "      <th>Attack</th>\n",
              "      <th>Kill</th>\n",
              "      <th>Wound</th>\n",
              "      <th>Targetn</th>\n",
              "      <th>Summary</th>\n",
              "      <th>Group</th>\n",
              "      <th>Targetv</th>\n",
              "      <th>Target_type</th>\n",
              "      <th>Weapon_type</th>\n",
              "      <th>Motive</th>\n",
              "    </tr>\n",
              "  </thead>\n",
              "  <tbody>\n",
              "    <tr>\n",
              "      <th>0</th>\n",
              "      <td>1970</td>\n",
              "      <td>7</td>\n",
              "      <td>2</td>\n",
              "      <td>Dominican Republic</td>\n",
              "      <td>NaN</td>\n",
              "      <td>Central America &amp; Caribbean</td>\n",
              "      <td>Santo Domingo</td>\n",
              "      <td>18.456792</td>\n",
              "      <td>-69.951164</td>\n",
              "      <td>Assassination</td>\n",
              "      <td>1.0</td>\n",
              "      <td>0.0</td>\n",
              "      <td>Julio Guzman</td>\n",
              "      <td>NaN</td>\n",
              "      <td>MANO-D</td>\n",
              "      <td>14</td>\n",
              "      <td>Private Citizens &amp; Property</td>\n",
              "      <td>Unknown</td>\n",
              "      <td>NaN</td>\n",
              "    </tr>\n",
              "    <tr>\n",
              "      <th>1</th>\n",
              "      <td>1970</td>\n",
              "      <td>0</td>\n",
              "      <td>0</td>\n",
              "      <td>Mexico</td>\n",
              "      <td>Federal</td>\n",
              "      <td>North America</td>\n",
              "      <td>Mexico city</td>\n",
              "      <td>19.371887</td>\n",
              "      <td>-99.086624</td>\n",
              "      <td>Hostage Taking (Kidnapping)</td>\n",
              "      <td>0.0</td>\n",
              "      <td>0.0</td>\n",
              "      <td>Nadine Chaval, daughter</td>\n",
              "      <td>NaN</td>\n",
              "      <td>23rd of September Communist League</td>\n",
              "      <td>7</td>\n",
              "      <td>Government (Diplomatic)</td>\n",
              "      <td>Unknown</td>\n",
              "      <td>NaN</td>\n",
              "    </tr>\n",
              "    <tr>\n",
              "      <th>2</th>\n",
              "      <td>1970</td>\n",
              "      <td>1</td>\n",
              "      <td>0</td>\n",
              "      <td>Philippines</td>\n",
              "      <td>Tarlac</td>\n",
              "      <td>Southeast Asia</td>\n",
              "      <td>Unknown</td>\n",
              "      <td>15.478598</td>\n",
              "      <td>120.599741</td>\n",
              "      <td>Assassination</td>\n",
              "      <td>1.0</td>\n",
              "      <td>0.0</td>\n",
              "      <td>Employee</td>\n",
              "      <td>NaN</td>\n",
              "      <td>Unknown</td>\n",
              "      <td>10</td>\n",
              "      <td>Journalists &amp; Media</td>\n",
              "      <td>Unknown</td>\n",
              "      <td>NaN</td>\n",
              "    </tr>\n",
              "    <tr>\n",
              "      <th>3</th>\n",
              "      <td>1970</td>\n",
              "      <td>1</td>\n",
              "      <td>0</td>\n",
              "      <td>Greece</td>\n",
              "      <td>Attica</td>\n",
              "      <td>Western Europe</td>\n",
              "      <td>Athens</td>\n",
              "      <td>37.997490</td>\n",
              "      <td>23.762728</td>\n",
              "      <td>Bombing/Explosion</td>\n",
              "      <td>NaN</td>\n",
              "      <td>NaN</td>\n",
              "      <td>U.S. Embassy</td>\n",
              "      <td>NaN</td>\n",
              "      <td>Unknown</td>\n",
              "      <td>7</td>\n",
              "      <td>Government (Diplomatic)</td>\n",
              "      <td>Explosives</td>\n",
              "      <td>NaN</td>\n",
              "    </tr>\n",
              "    <tr>\n",
              "      <th>4</th>\n",
              "      <td>1970</td>\n",
              "      <td>1</td>\n",
              "      <td>0</td>\n",
              "      <td>Japan</td>\n",
              "      <td>Fukouka</td>\n",
              "      <td>East Asia</td>\n",
              "      <td>Fukouka</td>\n",
              "      <td>33.580412</td>\n",
              "      <td>130.396361</td>\n",
              "      <td>Facility/Infrastructure Attack</td>\n",
              "      <td>NaN</td>\n",
              "      <td>NaN</td>\n",
              "      <td>U.S. Consulate</td>\n",
              "      <td>NaN</td>\n",
              "      <td>Unknown</td>\n",
              "      <td>7</td>\n",
              "      <td>Government (Diplomatic)</td>\n",
              "      <td>Incendiary</td>\n",
              "      <td>NaN</td>\n",
              "    </tr>\n",
              "  </tbody>\n",
              "</table>\n",
              "</div>"
            ],
            "text/plain": [
              "   Year  Month  Day  ...                  Target_type Weapon_type Motive\n",
              "0  1970      7    2  ...  Private Citizens & Property     Unknown    NaN\n",
              "1  1970      0    0  ...      Government (Diplomatic)     Unknown    NaN\n",
              "2  1970      1    0  ...          Journalists & Media     Unknown    NaN\n",
              "3  1970      1    0  ...      Government (Diplomatic)  Explosives    NaN\n",
              "4  1970      1    0  ...      Government (Diplomatic)  Incendiary    NaN\n",
              "\n",
              "[5 rows x 19 columns]"
            ]
          },
          "metadata": {
            "tags": []
          },
          "execution_count": 9
        }
      ]
    },
    {
      "cell_type": "code",
      "metadata": {
        "colab": {
          "base_uri": "https://localhost:8080/"
        },
        "id": "OisyLpBDQ9bL",
        "outputId": "6ebce4de-cef1-42b1-eb79-5e273a4dbb13"
      },
      "source": [
        "df.info()"
      ],
      "execution_count": null,
      "outputs": [
        {
          "output_type": "stream",
          "text": [
            "<class 'pandas.core.frame.DataFrame'>\n",
            "RangeIndex: 181691 entries, 0 to 181690\n",
            "Data columns (total 19 columns):\n",
            " #   Column       Non-Null Count   Dtype  \n",
            "---  ------       --------------   -----  \n",
            " 0   Year         181691 non-null  int64  \n",
            " 1   Month        181691 non-null  int64  \n",
            " 2   Day          181691 non-null  int64  \n",
            " 3   Country      181691 non-null  object \n",
            " 4   State        181270 non-null  object \n",
            " 5   Region       181691 non-null  object \n",
            " 6   City         181257 non-null  object \n",
            " 7   Latitude     177135 non-null  float64\n",
            " 8   Longitude    177134 non-null  float64\n",
            " 9   Attack       181691 non-null  object \n",
            " 10  Kill         171378 non-null  float64\n",
            " 11  Wound        165380 non-null  float64\n",
            " 12  Targetn      181055 non-null  object \n",
            " 13  Summary      115562 non-null  object \n",
            " 14  Group        181691 non-null  object \n",
            " 15  Targetv      181691 non-null  int64  \n",
            " 16  Target_type  181691 non-null  object \n",
            " 17  Weapon_type  181691 non-null  object \n",
            " 18  Motive       50561 non-null   object \n",
            "dtypes: float64(4), int64(4), object(11)\n",
            "memory usage: 26.3+ MB\n"
          ],
          "name": "stdout"
        }
      ]
    },
    {
      "cell_type": "code",
      "metadata": {
        "colab": {
          "base_uri": "https://localhost:8080/",
          "height": 297
        },
        "id": "0TP5g0o4RYSB",
        "outputId": "38e30b2a-3b00-40e5-d663-c42a89e28b7f"
      },
      "source": [
        "df.describe()       #general info about data"
      ],
      "execution_count": null,
      "outputs": [
        {
          "output_type": "execute_result",
          "data": {
            "text/html": [
              "<div>\n",
              "<style scoped>\n",
              "    .dataframe tbody tr th:only-of-type {\n",
              "        vertical-align: middle;\n",
              "    }\n",
              "\n",
              "    .dataframe tbody tr th {\n",
              "        vertical-align: top;\n",
              "    }\n",
              "\n",
              "    .dataframe thead th {\n",
              "        text-align: right;\n",
              "    }\n",
              "</style>\n",
              "<table border=\"1\" class=\"dataframe\">\n",
              "  <thead>\n",
              "    <tr style=\"text-align: right;\">\n",
              "      <th></th>\n",
              "      <th>Year</th>\n",
              "      <th>Month</th>\n",
              "      <th>Day</th>\n",
              "      <th>Latitude</th>\n",
              "      <th>Longitude</th>\n",
              "      <th>Kill</th>\n",
              "      <th>Wound</th>\n",
              "      <th>Targetv</th>\n",
              "    </tr>\n",
              "  </thead>\n",
              "  <tbody>\n",
              "    <tr>\n",
              "      <th>count</th>\n",
              "      <td>181691.000000</td>\n",
              "      <td>181691.000000</td>\n",
              "      <td>181691.000000</td>\n",
              "      <td>177135.000000</td>\n",
              "      <td>1.771340e+05</td>\n",
              "      <td>171378.000000</td>\n",
              "      <td>165380.000000</td>\n",
              "      <td>181691.000000</td>\n",
              "    </tr>\n",
              "    <tr>\n",
              "      <th>mean</th>\n",
              "      <td>2002.638997</td>\n",
              "      <td>6.467277</td>\n",
              "      <td>15.505644</td>\n",
              "      <td>23.498343</td>\n",
              "      <td>-4.586957e+02</td>\n",
              "      <td>2.403272</td>\n",
              "      <td>3.167668</td>\n",
              "      <td>8.439719</td>\n",
              "    </tr>\n",
              "    <tr>\n",
              "      <th>std</th>\n",
              "      <td>13.259430</td>\n",
              "      <td>3.388303</td>\n",
              "      <td>8.814045</td>\n",
              "      <td>18.569242</td>\n",
              "      <td>2.047790e+05</td>\n",
              "      <td>11.545741</td>\n",
              "      <td>35.949392</td>\n",
              "      <td>6.653838</td>\n",
              "    </tr>\n",
              "    <tr>\n",
              "      <th>min</th>\n",
              "      <td>1970.000000</td>\n",
              "      <td>0.000000</td>\n",
              "      <td>0.000000</td>\n",
              "      <td>-53.154613</td>\n",
              "      <td>-8.618590e+07</td>\n",
              "      <td>0.000000</td>\n",
              "      <td>0.000000</td>\n",
              "      <td>1.000000</td>\n",
              "    </tr>\n",
              "    <tr>\n",
              "      <th>25%</th>\n",
              "      <td>1991.000000</td>\n",
              "      <td>4.000000</td>\n",
              "      <td>8.000000</td>\n",
              "      <td>11.510046</td>\n",
              "      <td>4.545640e+00</td>\n",
              "      <td>0.000000</td>\n",
              "      <td>0.000000</td>\n",
              "      <td>3.000000</td>\n",
              "    </tr>\n",
              "    <tr>\n",
              "      <th>50%</th>\n",
              "      <td>2009.000000</td>\n",
              "      <td>6.000000</td>\n",
              "      <td>15.000000</td>\n",
              "      <td>31.467463</td>\n",
              "      <td>4.324651e+01</td>\n",
              "      <td>0.000000</td>\n",
              "      <td>0.000000</td>\n",
              "      <td>4.000000</td>\n",
              "    </tr>\n",
              "    <tr>\n",
              "      <th>75%</th>\n",
              "      <td>2014.000000</td>\n",
              "      <td>9.000000</td>\n",
              "      <td>23.000000</td>\n",
              "      <td>34.685087</td>\n",
              "      <td>6.871033e+01</td>\n",
              "      <td>2.000000</td>\n",
              "      <td>2.000000</td>\n",
              "      <td>14.000000</td>\n",
              "    </tr>\n",
              "    <tr>\n",
              "      <th>max</th>\n",
              "      <td>2017.000000</td>\n",
              "      <td>12.000000</td>\n",
              "      <td>31.000000</td>\n",
              "      <td>74.633553</td>\n",
              "      <td>1.793667e+02</td>\n",
              "      <td>1570.000000</td>\n",
              "      <td>8191.000000</td>\n",
              "      <td>22.000000</td>\n",
              "    </tr>\n",
              "  </tbody>\n",
              "</table>\n",
              "</div>"
            ],
            "text/plain": [
              "                Year          Month  ...          Wound        Targetv\n",
              "count  181691.000000  181691.000000  ...  165380.000000  181691.000000\n",
              "mean     2002.638997       6.467277  ...       3.167668       8.439719\n",
              "std        13.259430       3.388303  ...      35.949392       6.653838\n",
              "min      1970.000000       0.000000  ...       0.000000       1.000000\n",
              "25%      1991.000000       4.000000  ...       0.000000       3.000000\n",
              "50%      2009.000000       6.000000  ...       0.000000       4.000000\n",
              "75%      2014.000000       9.000000  ...       2.000000      14.000000\n",
              "max      2017.000000      12.000000  ...    8191.000000      22.000000\n",
              "\n",
              "[8 rows x 8 columns]"
            ]
          },
          "metadata": {
            "tags": []
          },
          "execution_count": 11
        }
      ]
    },
    {
      "cell_type": "code",
      "metadata": {
        "colab": {
          "base_uri": "https://localhost:8080/"
        },
        "id": "HiXgehBmc5fj",
        "outputId": "d10e7102-5ff2-487b-ad8b-eade96975651"
      },
      "source": [
        "df['Region'].value_counts()"
      ],
      "execution_count": null,
      "outputs": [
        {
          "output_type": "execute_result",
          "data": {
            "text/plain": [
              "Middle East & North Africa     50474\n",
              "South Asia                     44974\n",
              "South America                  18978\n",
              "Sub-Saharan Africa             17550\n",
              "Western Europe                 16639\n",
              "Southeast Asia                 12485\n",
              "Central America & Caribbean    10344\n",
              "Eastern Europe                  5144\n",
              "North America                   3456\n",
              "East Asia                        802\n",
              "Central Asia                     563\n",
              "Australasia & Oceania            282\n",
              "Name: Region, dtype: int64"
            ]
          },
          "metadata": {
            "tags": []
          },
          "execution_count": 12
        }
      ]
    },
    {
      "cell_type": "code",
      "metadata": {
        "colab": {
          "base_uri": "https://localhost:8080/",
          "height": 688
        },
        "id": "eUrN52Jhdi6S",
        "outputId": "b675fe7c-be49-4ba6-e47d-4e1d9ba5f6c2"
      },
      "source": [
        "plt.figure(figsize=(10,8))\n",
        "sns.barplot(list(df['Region'].value_counts().head(10).keys()),df['Region'].value_counts().head(10),palette='tab10')\n",
        "plt.title('AFFECTED REGIONS ')\n",
        "plt.xticks(rotation=80)\n",
        "plt.show()"
      ],
      "execution_count": null,
      "outputs": [
        {
          "output_type": "stream",
          "text": [
            "/usr/local/lib/python3.7/dist-packages/seaborn/_decorators.py:43: FutureWarning: Pass the following variables as keyword args: x, y. From version 0.12, the only valid positional argument will be `data`, and passing other arguments without an explicit keyword will result in an error or misinterpretation.\n",
            "  FutureWarning\n"
          ],
          "name": "stderr"
        },
        {
          "output_type": "display_data",
          "data": {
            "image/png": "[encoded data removed]",
            "text/plain": [
              "<Figure size 720x576 with 1 Axes>"
            ]
          },
          "metadata": {
            "tags": [],
            "needs_background": "light"
          }
        }
      ]
    },
    {
      "cell_type": "markdown",
      "metadata": {
        "id": "esOA73LND42R"
      },
      "source": [
        "RESULT:-THIS REGION IS CONSIDER AS HOT REGION IN TERRIORISM ACTIVITIES\n",
        "1.   Middle East & North Africa     50474\n",
        "\n",
        "2.   South Asia                     44974\n",
        "\n",
        "1.  South America                   18978\n",
        "\n",
        "\n",
        "\n",
        "\n",
        "\n"
      ]
    },
    {
      "cell_type": "code",
      "metadata": {
        "colab": {
          "base_uri": "https://localhost:8080/",
          "height": 513
        },
        "id": "-IknLPMBiNTh",
        "outputId": "3cf65c3f-d951-4858-b0e8-e78551c92246"
      },
      "source": [
        "pd.crosstab(df.Year,df.Region).plot(kind='line',figsize=(20,8))\n",
        "plt.title('Terrorist activity in this region in each year')\n",
        "plt.xlabel('Region')\n",
        "plt.ylabel('Number of Attacks')\n",
        "plt.xticks([1965,1970,1975,1980,1985,1990,1995,2000,2005,2010,2015,2016])\n",
        "plt.grid()\n",
        "plt.show()"
      ],
      "execution_count": null,
      "outputs": [
        {
          "output_type": "display_data",
          "data": {
            "image/png": "[encoded data removed]",
            "text/plain": [
              "<Figure size 1440x576 with 1 Axes>"
            ]
          },
          "metadata": {
            "tags": [],
            "needs_background": "light"
          }
        }
      ]
    },
    {
      "cell_type": "markdown",
      "metadata": {
        "id": "wHSWfpZPFcAP"
      },
      "source": [
        "RESULT:-HOT REGION IN 2017 IS EAST ASIA"
      ]
    },
    {
      "cell_type": "code",
      "metadata": {
        "colab": {
          "base_uri": "https://localhost:8080/"
        },
        "id": "acf72YsWkZU5",
        "outputId": "86589f18-6e1e-4b8e-cd20-99e3c1a058ad"
      },
      "source": [
        "df['Country'].value_counts().head(10)"
      ],
      "execution_count": null,
      "outputs": [
        {
          "output_type": "execute_result",
          "data": {
            "text/plain": [
              "Iraq              24636\n",
              "Pakistan          14368\n",
              "Afghanistan       12731\n",
              "India             11960\n",
              "Colombia           8306\n",
              "Philippines        6908\n",
              "Peru               6096\n",
              "El Salvador        5320\n",
              "United Kingdom     5235\n",
              "Turkey             4292\n",
              "Name: Country, dtype: int64"
            ]
          },
          "metadata": {
            "tags": []
          },
          "execution_count": 15
        }
      ]
    },
    {
      "cell_type": "code",
      "metadata": {
        "colab": {
          "base_uri": "https://localhost:8080/",
          "height": 624
        },
        "id": "xM76fpcHo2GT",
        "outputId": "10d0518f-8211-4840-d40f-950eb8cda730"
      },
      "source": [
        "plt.figure(figsize=(10,8))\n",
        "sns.barplot(list(df['Country'].value_counts().head(10).keys()),df['Country'].value_counts().head(10),palette='tab10')\n",
        "plt.title('AFFECTED REGIONS ')\n",
        "plt.xticks(rotation=80)\n",
        "plt.show()"
      ],
      "execution_count": null,
      "outputs": [
        {
          "output_type": "stream",
          "text": [
            "/usr/local/lib/python3.7/dist-packages/seaborn/_decorators.py:43: FutureWarning: Pass the following variables as keyword args: x, y. From version 0.12, the only valid positional argument will be `data`, and passing other arguments without an explicit keyword will result in an error or misinterpretation.\n",
            "  FutureWarning\n"
          ],
          "name": "stderr"
        },
        {
          "output_type": "display_data",
          "data": {
            "image/png": "[encoded data removed]",
            "text/plain": [
              "<Figure size 720x576 with 1 Axes>"
            ]
          },
          "metadata": {
            "tags": [],
            "needs_background": "light"
          }
        }
      ]
    },
    {
      "cell_type": "markdown",
      "metadata": {
        "id": "MpPC9yIIFyc0"
      },
      "source": [
        "RESULT:-THIS COUNTRY IS CONSIDER AS HOT REGION IN TERRIORISM ACTIVITIES\n",
        "1. Iraq                24636\n",
        "2. Pakistan            14368\n",
        "3. Afghanistan         12731\n",
        "4. India               11960\n",
        "\n",
        "\n",
        "\n",
        "\n",
        "\n",
        "\n",
        "\n",
        "\n",
        "\n",
        "\n"
      ]
    },
    {
      "cell_type": "code",
      "metadata": {
        "colab": {
          "base_uri": "https://localhost:8080/"
        },
        "id": "lI85KppSp2pE",
        "outputId": "4fce1004-c57a-4894-8c19-6353f7e8b8eb"
      },
      "source": [
        "df['State'].value_counts().head(10)"
      ],
      "execution_count": null,
      "outputs": [
        {
          "output_type": "execute_result",
          "data": {
            "text/plain": [
              "Baghdad               7645\n",
              "Northern Ireland      4498\n",
              "Unknown               4290\n",
              "Balochistan           3710\n",
              "Saladin               3411\n",
              "Al Anbar              3299\n",
              "Nineveh               3241\n",
              "Sindh                 3206\n",
              "Khyber Pakhtunkhwa    3084\n",
              "Diyala                3041\n",
              "Name: State, dtype: int64"
            ]
          },
          "metadata": {
            "tags": []
          },
          "execution_count": 19
        }
      ]
    },
    {
      "cell_type": "code",
      "metadata": {
        "colab": {
          "base_uri": "https://localhost:8080/",
          "height": 648
        },
        "id": "UIRJGGBNqIkp",
        "outputId": "66fbb274-1bd6-4e81-c5b2-610e18a83318"
      },
      "source": [
        "plt.figure(figsize=(18,8))\n",
        "sns.barplot(list(df['State'].value_counts().head(10).keys()),df['State'].value_counts().head(10),palette='tab10')\n",
        "plt.title('MOST AFFECTED STATES DUE TO TERRORISM ')\n",
        "plt.ylabel('COUNT')\n",
        "plt.xticks(rotation=80)\n",
        "plt.grid()\n",
        "plt.show()"
      ],
      "execution_count": null,
      "outputs": [
        {
          "output_type": "stream",
          "text": [
            "/usr/local/lib/python3.7/dist-packages/seaborn/_decorators.py:43: FutureWarning: Pass the following variables as keyword args: x, y. From version 0.12, the only valid positional argument will be `data`, and passing other arguments without an explicit keyword will result in an error or misinterpretation.\n",
            "  FutureWarning\n"
          ],
          "name": "stderr"
        },
        {
          "output_type": "display_data",
          "data": {
            "image/png": "[encoded data removed]",
            "text/plain": [
              "<Figure size 1296x576 with 1 Axes>"
            ]
          },
          "metadata": {
            "tags": [],
            "needs_background": "light"
          }
        }
      ]
    },
    {
      "cell_type": "markdown",
      "metadata": {
        "id": "Wl2HqJJfGx06"
      },
      "source": [
        "RESULT-HOT STATES IN CASE OF TERRIORISM\n",
        "1. Baghdad               7645\n",
        "2. Northern Ireland      4498\n",
        "3. Unknown               4290"
      ]
    },
    {
      "cell_type": "code",
      "metadata": {
        "colab": {
          "base_uri": "https://localhost:8080/"
        },
        "id": "IsnnqvHOrKU9",
        "outputId": "ee37a136-ca58-4a45-ffb0-3d6244580593"
      },
      "source": [
        "#HOW MANY STATES IN IRAQ IS AFFECTED BY TERRIORISM\n",
        "df_astates=df[df['Country']=='Iraq']['State']\n",
        "df_astates.value_counts().head()\n"
      ],
      "execution_count": null,
      "outputs": [
        {
          "output_type": "execute_result",
          "data": {
            "text/plain": [
              "Baghdad     7644\n",
              "Saladin     3411\n",
              "Al Anbar    3299\n",
              "Nineveh     3241\n",
              "Diyala      3041\n",
              "Name: State, dtype: int64"
            ]
          },
          "metadata": {
            "tags": []
          },
          "execution_count": 42
        }
      ]
    },
    {
      "cell_type": "code",
      "metadata": {
        "colab": {
          "base_uri": "https://localhost:8080/"
        },
        "id": "Q-BKAcXaubNL",
        "outputId": "de6ecbb6-687b-4cf2-f4a8-1445b5538916"
      },
      "source": [
        "#HOW MANY STATES IN AFGHANISHTAN IS AFFECTED BY TERRIORISM\n",
        "df_astates2=df[df['Country']=='Pakistan']['State']\n",
        "df_astates2.value_counts().head()"
      ],
      "execution_count": null,
      "outputs": [
        {
          "output_type": "execute_result",
          "data": {
            "text/plain": [
              "Balochistan                            3710\n",
              "Sindh                                  3206\n",
              "Khyber Pakhtunkhwa                     3084\n",
              "Federally Administered Tribal Areas    2392\n",
              "North-West Frontier Province            866\n",
              "Name: State, dtype: int64"
            ]
          },
          "metadata": {
            "tags": []
          },
          "execution_count": 22
        }
      ]
    },
    {
      "cell_type": "code",
      "metadata": {
        "colab": {
          "base_uri": "https://localhost:8080/",
          "height": 336
        },
        "id": "XoGosqL1tQxh",
        "outputId": "46965563-2126-4bd3-b874-37ac017c9405"
      },
      "source": [
        "plt.figure(figsize=(10,5))\n",
        "plt.subplot(1,2,1)\n",
        "plt.bar(list(df_astates.value_counts().head().keys()),list(df_astates.value_counts().head()),color='r')\n",
        "plt.title('MOST AFFECTED STATE IN IRAN COUNTRY')\n",
        "plt.ylabel('COUNTS')\n",
        "plt.subplot(1,2,2)\n",
        "plt.bar(list(df_astates2.value_counts().head().keys()),list(df_astates2.value_counts().head()),color='purple')\n",
        "plt.title('MOST AFFECTED STATE IN PAKISTAN COUNTRY')\n",
        "plt.ylabel('COUNTS')\n",
        "plt.show()\n"
      ],
      "execution_count": null,
      "outputs": [
        {
          "output_type": "display_data",
          "data": {
            "image/png": "[encoded data removed]",
            "text/plain": [
              "<Figure size 720x360 with 2 Axes>"
            ]
          },
          "metadata": {
            "tags": [],
            "needs_background": "light"
          }
        }
      ]
    },
    {
      "cell_type": "markdown",
      "metadata": {
        "id": "wYQP99wdH7kI"
      },
      "source": [
        "RESULT-->HOT REGION STATE IN IRAQ AND PAKISTAN IS\n",
        "\n",
        "\n",
        "1.   BAGHDAD\n",
        "2.   BALOCHISTAN\n",
        "\n"
      ]
    },
    {
      "cell_type": "code",
      "metadata": {
        "colab": {
          "base_uri": "https://localhost:8080/"
        },
        "id": "nN9ztu0O1kR2",
        "outputId": "da5d7cd8-624a-427c-80ab-5cecf8d6f5f9"
      },
      "source": [
        "DF=df[df['Country']=='Iran']                        #CHECKING THE MOST ATTACKED CITY IN IRAN\n",
        "iran_city=DF[DF['State']=='Khuzestan']['City']\n",
        "iran_city.value_counts().head()"
      ],
      "execution_count": null,
      "outputs": [
        {
          "output_type": "execute_result",
          "data": {
            "text/plain": [
              "Ahvaz           33\n",
              "Khorramshahr    29\n",
              "Unknown         20\n",
              "Abadan          11\n",
              "Dezful           5\n",
              "Name: City, dtype: int64"
            ]
          },
          "metadata": {
            "tags": []
          },
          "execution_count": 24
        }
      ]
    },
    {
      "cell_type": "code",
      "metadata": {
        "colab": {
          "base_uri": "https://localhost:8080/"
        },
        "id": "5Y4Qq6e03-6d",
        "outputId": "c6fc1221-3219-414a-8099-8e8b1edd8f91"
      },
      "source": [
        "DF['Attack'].value_counts()"
      ],
      "execution_count": null,
      "outputs": [
        {
          "output_type": "execute_result",
          "data": {
            "text/plain": [
              "Bombing/Explosion                      347\n",
              "Assassination                          127\n",
              "Armed Assault                          106\n",
              "Facility/Infrastructure Attack          36\n",
              "Unknown                                 34\n",
              "Hostage Taking (Kidnapping)             20\n",
              "Hijacking                                9\n",
              "Hostage Taking (Barricade Incident)      4\n",
              "Unarmed Assault                          1\n",
              "Name: Attack, dtype: int64"
            ]
          },
          "metadata": {
            "tags": []
          },
          "execution_count": 25
        }
      ]
    },
    {
      "cell_type": "code",
      "metadata": {
        "colab": {
          "base_uri": "https://localhost:8080/"
        },
        "id": "Xu2DmIz14sG6",
        "outputId": "2949289e-19c0-4b95-86aa-a1b2bb48d126"
      },
      "source": [
        "DF['Targetn'].value_counts()  #PLACE WHERE EXPLOSION OR ATTACKS ARE PLANNED"
      ],
      "execution_count": null,
      "outputs": [
        {
          "output_type": "execute_result",
          "data": {
            "text/plain": [
              "oil pipeline                                            11\n",
              "Vehicle                                                  9\n",
              "Soldiers                                                 6\n",
              "Patrol                                                   5\n",
              "Civilians                                                5\n",
              "                                                        ..\n",
              "A member of Iran's Revolutionary Guard                   1\n",
              "Seyyed Asadollah Musavi, former senator of Khuzestan     1\n",
              "Seyyed Ali Khhmene'i (41), member                        1\n",
              "Home of member of Army of Islamic Republic               1\n",
              "Unk, \"Committee\" member                                  1\n",
              "Name: Targetn, Length: 600, dtype: int64"
            ]
          },
          "metadata": {
            "tags": []
          },
          "execution_count": 26
        }
      ]
    },
    {
      "cell_type": "code",
      "metadata": {
        "colab": {
          "base_uri": "https://localhost:8080/",
          "height": 303
        },
        "id": "J1v-ER9_14Vb",
        "outputId": "98dadda4-4c65-40d3-c663-880708fa5686"
      },
      "source": [
        "#PIE CHART SHOWS THE PERCENTAGE OF IRAN CITY IN TERRIORISM ATTACK\n",
        "plt.figure(figsize=(10,5))\n",
        "plt.pie(list(iran_city.value_counts().head()),labels=list(iran_city.value_counts().head().keys()),autopct='%0.2f%%')\n",
        "plt.show()"
      ],
      "execution_count": null,
      "outputs": [
        {
          "output_type": "display_data",
          "data": {
            "image/png": "[encoded data removed]",
            "text/plain": [
              "<Figure size 720x360 with 1 Axes>"
            ]
          },
          "metadata": {
            "tags": []
          }
        }
      ]
    },
    {
      "cell_type": "code",
      "metadata": {
        "colab": {
          "base_uri": "https://localhost:8080/"
        },
        "id": "A_syaf9EwYU2",
        "outputId": "ab9d21b7-cc88-4201-b699-9ee9b728bd27"
      },
      "source": [
        "DF1=df[df['Country']=='India']\n",
        "india_city=DF1[DF1['State']=='Jammu and Kashmir']['City']\n",
        "india_city.value_counts().head()"
      ],
      "execution_count": null,
      "outputs": [
        {
          "output_type": "execute_result",
          "data": {
            "text/plain": [
              "Srinagar    657\n",
              "Sopore      102\n",
              "Unknown      86\n",
              "Anantnag     76\n",
              "Jammu        57\n",
              "Name: City, dtype: int64"
            ]
          },
          "metadata": {
            "tags": []
          },
          "execution_count": 28
        }
      ]
    },
    {
      "cell_type": "code",
      "metadata": {
        "colab": {
          "base_uri": "https://localhost:8080/"
        },
        "id": "Tsj2hPHJ7a2m",
        "outputId": "d1c863bd-8d46-4622-8cf3-c3209258adff"
      },
      "source": [
        "DF1[DF1['Attack']=='Bombing/Explosion']['City'].value_counts()"
      ],
      "execution_count": null,
      "outputs": [
        {
          "output_type": "execute_result",
          "data": {
            "text/plain": [
              "Imphal        344\n",
              "Srinagar      334\n",
              "Unknown       201\n",
              "New Delhi     109\n",
              "Guwahati       62\n",
              "             ... \n",
              "Villupuram      1\n",
              "Katingia        1\n",
              "Atmakur         1\n",
              "Parasi          1\n",
              "Kunwarpur       1\n",
              "Name: City, Length: 1950, dtype: int64"
            ]
          },
          "metadata": {
            "tags": []
          },
          "execution_count": 29
        }
      ]
    },
    {
      "cell_type": "code",
      "metadata": {
        "colab": {
          "base_uri": "https://localhost:8080/",
          "height": 595
        },
        "id": "RhvpN066851T",
        "outputId": "64127cb8-9ab6-48e3-bb6b-cb6c3266ee34"
      },
      "source": [
        "#IN WHICH CITY OF INDIA IS TARGETED FOR EXPLOSION ATTACK MOSTLY\n",
        "plt.figure(figsize=(10,8))\n",
        "sns.barplot(list(DF1[DF1['Attack']=='Bombing/Explosion']['City'].value_counts().head().keys()),DF1[DF1['Attack']=='Bombing/Explosion']['City'].value_counts().head(),palette='tab10')\n",
        "plt.title('MOSTLY EXPLOSION TARGETED CITY IN INDIA ')\n",
        "plt.xticks(rotation=80)\n",
        "plt.show()"
      ],
      "execution_count": null,
      "outputs": [
        {
          "output_type": "stream",
          "text": [
            "/usr/local/lib/python3.7/dist-packages/seaborn/_decorators.py:43: FutureWarning: Pass the following variables as keyword args: x, y. From version 0.12, the only valid positional argument will be `data`, and passing other arguments without an explicit keyword will result in an error or misinterpretation.\n",
            "  FutureWarning\n"
          ],
          "name": "stderr"
        },
        {
          "output_type": "display_data",
          "data": {
            "image/png": "[encoded data removed]",
            "text/plain": [
              "<Figure size 720x576 with 1 Axes>"
            ]
          },
          "metadata": {
            "tags": [],
            "needs_background": "light"
          }
        }
      ]
    },
    {
      "cell_type": "code",
      "metadata": {
        "colab": {
          "base_uri": "https://localhost:8080/",
          "height": 303
        },
        "id": "gsIIDEv_zG6n",
        "outputId": "f4bd2ab7-6758-4561-8ba7-0b8a6cf5709d"
      },
      "source": [
        "plt.figure(figsize=(10,5))\n",
        "plt.pie(list(india_city.value_counts().head()),labels=list(india_city.value_counts().head().keys()),autopct='%0.2f%%')\n",
        "plt.show()"
      ],
      "execution_count": null,
      "outputs": [
        {
          "output_type": "display_data",
          "data": {
            "image/png": "[encoded data removed]",
            "text/plain": [
              "<Figure size 720x360 with 1 Axes>"
            ]
          },
          "metadata": {
            "tags": []
          }
        }
      ]
    },
    {
      "cell_type": "code",
      "metadata": {
        "colab": {
          "base_uri": "https://localhost:8080/"
        },
        "id": "jrggJ0iG3lVY",
        "outputId": "6264bdbc-bd5e-4ab7-80d5-6309efdae5bb"
      },
      "source": [
        "df['Year'].value_counts()"
      ],
      "execution_count": null,
      "outputs": [
        {
          "output_type": "execute_result",
          "data": {
            "text/plain": [
              "2014    16903\n",
              "2015    14965\n",
              "2016    13587\n",
              "2013    12036\n",
              "2017    10900\n",
              "2012     8522\n",
              "2011     5076\n",
              "1992     5071\n",
              "2010     4826\n",
              "2008     4805\n",
              "2009     4721\n",
              "1991     4683\n",
              "1989     4324\n",
              "1990     3887\n",
              "1988     3721\n",
              "1984     3495\n",
              "1994     3456\n",
              "2007     3242\n",
              "1997     3197\n",
              "1987     3183\n",
              "1995     3081\n",
              "1996     3058\n",
              "1985     2915\n",
              "1983     2870\n",
              "1986     2860\n",
              "2006     2758\n",
              "1979     2662\n",
              "1980     2662\n",
              "1981     2586\n",
              "1982     2544\n",
              "2005     2017\n",
              "2001     1906\n",
              "2000     1814\n",
              "1978     1526\n",
              "1999     1395\n",
              "2002     1333\n",
              "1977     1319\n",
              "2003     1278\n",
              "2004     1166\n",
              "1998      934\n",
              "1976      923\n",
              "1975      740\n",
              "1970      651\n",
              "1974      581\n",
              "1972      568\n",
              "1973      473\n",
              "1971      471\n",
              "Name: Year, dtype: int64"
            ]
          },
          "metadata": {
            "tags": []
          },
          "execution_count": 32
        }
      ]
    },
    {
      "cell_type": "code",
      "metadata": {
        "colab": {
          "base_uri": "https://localhost:8080/",
          "height": 582
        },
        "id": "AX5zfjpe26F_",
        "outputId": "c71c553e-4ced-4c7c-e009-e744690c3826"
      },
      "source": [
        "plt.figure(figsize=(20,8))\n",
        "sns.countplot('Year',data=df,palette='tab10')\n",
        "plt.xticks(rotation=90)\n",
        "plt.title(\"NO. OF TERRORITIES ACTIVITIES IN EACH YEAR\")\n",
        "plt.xlabel('YEAR')\n",
        "plt.ylabel('Counts')\n",
        "plt.show()"
      ],
      "execution_count": null,
      "outputs": [
        {
          "output_type": "stream",
          "text": [
            "/usr/local/lib/python3.7/dist-packages/seaborn/_decorators.py:43: FutureWarning: Pass the following variable as a keyword arg: x. From version 0.12, the only valid positional argument will be `data`, and passing other arguments without an explicit keyword will result in an error or misinterpretation.\n",
            "  FutureWarning\n"
          ],
          "name": "stderr"
        },
        {
          "output_type": "display_data",
          "data": {
            "image/png": "[encoded data removed]",
            "text/plain": [
              "<Figure size 1440x576 with 1 Axes>"
            ]
          },
          "metadata": {
            "tags": [],
            "needs_background": "light"
          }
        }
      ]
    },
    {
      "cell_type": "code",
      "metadata": {
        "colab": {
          "base_uri": "https://localhost:8080/"
        },
        "id": "JFUmJeCT_Fhe",
        "outputId": "20fbcd2e-3fce-48f8-ac2b-4a016d7baafb"
      },
      "source": [
        "df['Attack'].value_counts()\n"
      ],
      "execution_count": null,
      "outputs": [
        {
          "output_type": "execute_result",
          "data": {
            "text/plain": [
              "Bombing/Explosion                      88255\n",
              "Armed Assault                          42669\n",
              "Assassination                          19312\n",
              "Hostage Taking (Kidnapping)            11158\n",
              "Facility/Infrastructure Attack         10356\n",
              "Unknown                                 7276\n",
              "Unarmed Assault                         1015\n",
              "Hostage Taking (Barricade Incident)      991\n",
              "Hijacking                                659\n",
              "Name: Attack, dtype: int64"
            ]
          },
          "metadata": {
            "tags": []
          },
          "execution_count": 34
        }
      ]
    },
    {
      "cell_type": "code",
      "metadata": {
        "colab": {
          "base_uri": "https://localhost:8080/",
          "height": 736
        },
        "id": "ZBRcOmjNAK8u",
        "outputId": "3fca9b2e-feda-4183-81c7-9e852cdc8432"
      },
      "source": [
        "plt.figure(figsize=(20,8))\n",
        "sns.countplot('Attack',data=df,palette='tab10')\n",
        "plt.xticks(rotation=90)\n",
        "plt.title(\"METHOD OF ATTACKS\")\n",
        "plt.xlabel('ATTACKS')\n",
        "plt.ylabel('Counts')\n",
        "plt.show()"
      ],
      "execution_count": null,
      "outputs": [
        {
          "output_type": "stream",
          "text": [
            "/usr/local/lib/python3.7/dist-packages/seaborn/_decorators.py:43: FutureWarning: Pass the following variable as a keyword arg: x. From version 0.12, the only valid positional argument will be `data`, and passing other arguments without an explicit keyword will result in an error or misinterpretation.\n",
            "  FutureWarning\n"
          ],
          "name": "stderr"
        },
        {
          "output_type": "display_data",
          "data": {
            "image/png": "[encoded data removed]",
            "text/plain": [
              "<Figure size 1440x576 with 1 Axes>"
            ]
          },
          "metadata": {
            "tags": [],
            "needs_background": "light"
          }
        }
      ]
    },
    {
      "cell_type": "code",
      "metadata": {
        "colab": {
          "base_uri": "https://localhost:8080/"
        },
        "id": "qMnP4ojpAnbA",
        "outputId": "5a453c52-74cf-4679-a1d4-886e515790b2"
      },
      "source": [
        "df['Target_type'].value_counts()"
      ],
      "execution_count": null,
      "outputs": [
        {
          "output_type": "execute_result",
          "data": {
            "text/plain": [
              "Private Citizens & Property       43511\n",
              "Military                          27984\n",
              "Police                            24506\n",
              "Government (General)              21283\n",
              "Business                          20669\n",
              "Transportation                     6799\n",
              "Utilities                          6023\n",
              "Unknown                            5898\n",
              "Religious Figures/Institutions     4440\n",
              "Educational Institution            4322\n",
              "Government (Diplomatic)            3573\n",
              "Terrorists/Non-State Militia       3039\n",
              "Journalists & Media                2948\n",
              "Violent Political Party            1866\n",
              "Airports & Aircraft                1343\n",
              "Telecommunication                  1009\n",
              "NGO                                 970\n",
              "Tourists                            440\n",
              "Maritime                            351\n",
              "Food or Water Supply                317\n",
              "Abortion Related                    263\n",
              "Other                               137\n",
              "Name: Target_type, dtype: int64"
            ]
          },
          "metadata": {
            "tags": []
          },
          "execution_count": 36
        }
      ]
    },
    {
      "cell_type": "code",
      "metadata": {
        "colab": {
          "base_uri": "https://localhost:8080/",
          "height": 700
        },
        "id": "m7ZjnbUiA4zi",
        "outputId": "514eb06c-1fa7-4c79-94ce-5cc700240995"
      },
      "source": [
        "plt.figure(figsize=(20,8))\n",
        "sns.countplot('Target_type',data=df,palette='tab10')\n",
        "plt.xticks(rotation=90)\n",
        "plt.title(\"TARGETED COMMODITY FOR ATTACK\")\n",
        "plt.xlabel('TARGETS')\n",
        "plt.ylabel('Counts')\n",
        "plt.show()"
      ],
      "execution_count": null,
      "outputs": [
        {
          "output_type": "stream",
          "text": [
            "/usr/local/lib/python3.7/dist-packages/seaborn/_decorators.py:43: FutureWarning: Pass the following variable as a keyword arg: x. From version 0.12, the only valid positional argument will be `data`, and passing other arguments without an explicit keyword will result in an error or misinterpretation.\n",
            "  FutureWarning\n"
          ],
          "name": "stderr"
        },
        {
          "output_type": "display_data",
          "data": {
            "image/png": "[encoded data removed]",
            "text/plain": [
              "<Figure size 1440x576 with 1 Axes>"
            ]
          },
          "metadata": {
            "tags": [],
            "needs_background": "light"
          }
        }
      ]
    },
    {
      "cell_type": "code",
      "metadata": {
        "colab": {
          "base_uri": "https://localhost:8080/"
        },
        "id": "hFLnT8bvBgny",
        "outputId": "8a7e3236-faf5-4bf2-af62-0836adfbd4e6"
      },
      "source": [
        "df['Group'].value_counts()"
      ],
      "execution_count": null,
      "outputs": [
        {
          "output_type": "execute_result",
          "data": {
            "text/plain": [
              "Unknown                                             82782\n",
              "Taliban                                              7478\n",
              "Islamic State of Iraq and the Levant (ISIL)          5613\n",
              "Shining Path (SL)                                    4555\n",
              "Farabundo Marti National Liberation Front (FMLN)     3351\n",
              "                                                    ...  \n",
              "Militant Argentine Patriots                             1\n",
              "Striking Minors Group                                   1\n",
              "Bin Zabyan Tribesmen                                    1\n",
              "Islamist Sufi Group                                     1\n",
              "Swatantra Nepal Dal                                     1\n",
              "Name: Group, Length: 3537, dtype: int64"
            ]
          },
          "metadata": {
            "tags": []
          },
          "execution_count": 38
        }
      ]
    },
    {
      "cell_type": "code",
      "metadata": {
        "colab": {
          "base_uri": "https://localhost:8080/",
          "height": 750
        },
        "id": "NXj3lkJ1Br56",
        "outputId": "ba1d7844-7c3c-49c9-e46a-99a92b207c1e"
      },
      "source": [
        "plt.figure(figsize=(20,8))\n",
        "sns.countplot('Group',data=df.head(10),palette='tab10')\n",
        "plt.xticks(rotation=90)\n",
        "plt.title(\"TERRORITIES ACTIVITIES GROUP\")\n",
        "plt.xlabel('GROUP')\n",
        "plt.ylabel('Counts')\n",
        "plt.show()"
      ],
      "execution_count": null,
      "outputs": [
        {
          "output_type": "stream",
          "text": [
            "/usr/local/lib/python3.7/dist-packages/seaborn/_decorators.py:43: FutureWarning: Pass the following variable as a keyword arg: x. From version 0.12, the only valid positional argument will be `data`, and passing other arguments without an explicit keyword will result in an error or misinterpretation.\n",
            "  FutureWarning\n"
          ],
          "name": "stderr"
        },
        {
          "output_type": "display_data",
          "data": {
            "image/png": "[encoded data removed]",
            "text/plain": [
              "<Figure size 1440x576 with 1 Axes>"
            ]
          },
          "metadata": {
            "tags": [],
            "needs_background": "light"
          }
        }
      ]
    },
    {
      "cell_type": "code",
      "metadata": {
        "colab": {
          "base_uri": "https://localhost:8080/",
          "height": 297
        },
        "id": "PU6re6G6CjdI",
        "outputId": "0f39f619-854b-4f90-de5b-14a83252e64d"
      },
      "source": [
        "df.corr()   #this function shows the correlation betwenn two numerical values,that when first value is varing so in corresponding to second numerical value what changes occured"
      ],
      "execution_count": null,
      "outputs": [
        {
          "output_type": "execute_result",
          "data": {
            "text/html": [
              "<div>\n",
              "<style scoped>\n",
              "    .dataframe tbody tr th:only-of-type {\n",
              "        vertical-align: middle;\n",
              "    }\n",
              "\n",
              "    .dataframe tbody tr th {\n",
              "        vertical-align: top;\n",
              "    }\n",
              "\n",
              "    .dataframe thead th {\n",
              "        text-align: right;\n",
              "    }\n",
              "</style>\n",
              "<table border=\"1\" class=\"dataframe\">\n",
              "  <thead>\n",
              "    <tr style=\"text-align: right;\">\n",
              "      <th></th>\n",
              "      <th>Year</th>\n",
              "      <th>Month</th>\n",
              "      <th>Day</th>\n",
              "      <th>Latitude</th>\n",
              "      <th>Longitude</th>\n",
              "      <th>Kill</th>\n",
              "      <th>Wound</th>\n",
              "      <th>Targetv</th>\n",
              "    </tr>\n",
              "  </thead>\n",
              "  <tbody>\n",
              "    <tr>\n",
              "      <th>Year</th>\n",
              "      <td>1.000000</td>\n",
              "      <td>0.000139</td>\n",
              "      <td>0.018254</td>\n",
              "      <td>0.166933</td>\n",
              "      <td>0.003917</td>\n",
              "      <td>0.015341</td>\n",
              "      <td>0.015273</td>\n",
              "      <td>0.079082</td>\n",
              "    </tr>\n",
              "    <tr>\n",
              "      <th>Month</th>\n",
              "      <td>0.000139</td>\n",
              "      <td>1.000000</td>\n",
              "      <td>0.005497</td>\n",
              "      <td>-0.015978</td>\n",
              "      <td>-0.003880</td>\n",
              "      <td>0.003463</td>\n",
              "      <td>0.002938</td>\n",
              "      <td>-0.000948</td>\n",
              "    </tr>\n",
              "    <tr>\n",
              "      <th>Day</th>\n",
              "      <td>0.018254</td>\n",
              "      <td>0.005497</td>\n",
              "      <td>1.000000</td>\n",
              "      <td>0.003423</td>\n",
              "      <td>-0.002285</td>\n",
              "      <td>-0.003693</td>\n",
              "      <td>-0.001268</td>\n",
              "      <td>-0.000052</td>\n",
              "    </tr>\n",
              "    <tr>\n",
              "      <th>Latitude</th>\n",
              "      <td>0.166933</td>\n",
              "      <td>-0.015978</td>\n",
              "      <td>0.003423</td>\n",
              "      <td>1.000000</td>\n",
              "      <td>0.001463</td>\n",
              "      <td>-0.018124</td>\n",
              "      <td>0.015988</td>\n",
              "      <td>-0.022805</td>\n",
              "    </tr>\n",
              "    <tr>\n",
              "      <th>Longitude</th>\n",
              "      <td>0.003917</td>\n",
              "      <td>-0.003880</td>\n",
              "      <td>-0.002285</td>\n",
              "      <td>0.001463</td>\n",
              "      <td>1.000000</td>\n",
              "      <td>-0.000562</td>\n",
              "      <td>0.000223</td>\n",
              "      <td>-0.003418</td>\n",
              "    </tr>\n",
              "    <tr>\n",
              "      <th>Kill</th>\n",
              "      <td>0.015341</td>\n",
              "      <td>0.003463</td>\n",
              "      <td>-0.003693</td>\n",
              "      <td>-0.018124</td>\n",
              "      <td>-0.000562</td>\n",
              "      <td>1.000000</td>\n",
              "      <td>0.534375</td>\n",
              "      <td>0.008499</td>\n",
              "    </tr>\n",
              "    <tr>\n",
              "      <th>Wound</th>\n",
              "      <td>0.015273</td>\n",
              "      <td>0.002938</td>\n",
              "      <td>-0.001268</td>\n",
              "      <td>0.015988</td>\n",
              "      <td>0.000223</td>\n",
              "      <td>0.534375</td>\n",
              "      <td>1.000000</td>\n",
              "      <td>0.011303</td>\n",
              "    </tr>\n",
              "    <tr>\n",
              "      <th>Targetv</th>\n",
              "      <td>0.079082</td>\n",
              "      <td>-0.000948</td>\n",
              "      <td>-0.000052</td>\n",
              "      <td>-0.022805</td>\n",
              "      <td>-0.003418</td>\n",
              "      <td>0.008499</td>\n",
              "      <td>0.011303</td>\n",
              "      <td>1.000000</td>\n",
              "    </tr>\n",
              "  </tbody>\n",
              "</table>\n",
              "</div>"
            ],
            "text/plain": [
              "               Year     Month       Day  ...      Kill     Wound   Targetv\n",
              "Year       1.000000  0.000139  0.018254  ...  0.015341  0.015273  0.079082\n",
              "Month      0.000139  1.000000  0.005497  ...  0.003463  0.002938 -0.000948\n",
              "Day        0.018254  0.005497  1.000000  ... -0.003693 -0.001268 -0.000052\n",
              "Latitude   0.166933 -0.015978  0.003423  ... -0.018124  0.015988 -0.022805\n",
              "Longitude  0.003917 -0.003880 -0.002285  ... -0.000562  0.000223 -0.003418\n",
              "Kill       0.015341  0.003463 -0.003693  ...  1.000000  0.534375  0.008499\n",
              "Wound      0.015273  0.002938 -0.001268  ...  0.534375  1.000000  0.011303\n",
              "Targetv    0.079082 -0.000948 -0.000052  ...  0.008499  0.011303  1.000000\n",
              "\n",
              "[8 rows x 8 columns]"
            ]
          },
          "metadata": {
            "tags": []
          },
          "execution_count": 40
        }
      ]
    },
    {
      "cell_type": "code",
      "metadata": {
        "colab": {
          "base_uri": "https://localhost:8080/",
          "height": 309
        },
        "id": "PnaM_BX3CyG3",
        "outputId": "1ed0fa51-bf02-463a-ea22-55b36103dc5c"
      },
      "source": [
        "sns.heatmap(df.corr(),cmap='RdBu',annot=True,fmt=\"1.1f\",linewidth=3);"
      ],
      "execution_count": null,
      "outputs": [
        {
          "output_type": "display_data",
          "data": {
            "image/png": "[encoded data removed]",
            "text/plain": [
              "<Figure size 432x288 with 2 Axes>"
            ]
          },
          "metadata": {
            "tags": [],
            "needs_background": "light"
          }
        }
      ]
    }
  ]
}